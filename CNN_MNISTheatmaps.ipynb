{
  "nbformat": 4,
  "nbformat_minor": 0,
  "metadata": {
    "colab": {
      "name": "CNN_MNISTheatmaps.ipynb",
      "version": "0.3.2",
      "provenance": [],
      "collapsed_sections": [],
      "include_colab_link": true
    },
    "kernelspec": {
      "name": "python3",
      "display_name": "Python 3"
    }
  },
  "cells": [
    {
      "cell_type": "markdown",
      "metadata": {
        "id": "view-in-github",
        "colab_type": "text"
      },
      "source": [
        "<a href=\"https://colab.research.google.com/github/DanielTaylor97/HonoursProject/blob/master/CNN_MNISTheatmaps.ipynb\" target=\"_parent\"><img src=\"https://colab.research.google.com/assets/colab-badge.svg\" alt=\"Open In Colab\"/></a>"
      ]
    },
    {
      "cell_type": "markdown",
      "metadata": {
        "id": "hI2PKnfEwdlx",
        "colab_type": "text"
      },
      "source": [
        "IMPORTS"
      ]
    },
    {
      "cell_type": "code",
      "metadata": {
        "id": "UgeCs5SEwYhP",
        "colab_type": "code",
        "colab": {}
      },
      "source": [
        "from __future__ import division, absolute_import, print_function, unicode_literals\n",
        "import tensorflow as tf\n",
        "from tensorflow.keras import datasets, layers, models\n",
        "import tensorflow.keras as keras\n",
        "import matplotlib.pyplot as plt\n",
        "import numpy as np\n",
        "import PIL, PIL.Image\n",
        "from scipy import signal"
      ],
      "execution_count": 0,
      "outputs": []
    },
    {
      "cell_type": "markdown",
      "metadata": {
        "id": "P4w8qezdxAy-",
        "colab_type": "text"
      },
      "source": [
        "DOWNLOADING AND PREPARING THE MNIST DATASET"
      ]
    },
    {
      "cell_type": "code",
      "metadata": {
        "id": "yhGQDNdbxTO8",
        "colab_type": "code",
        "colab": {}
      },
      "source": [
        "(train_images, train_labels), (test_images, test_labels) = datasets.mnist.load_data()\n",
        "\n",
        "train_images = train_images.reshape(60000, 28, 28, 1)\n",
        "test_images = test_images.reshape(10000, 28, 28, 1)\n",
        "#reshaping to 60000 and 10000 28*28*1 tensors (1 because b&w)\n",
        "\n",
        "train_images = train_images/225\n",
        "test_images = test_images/225\n",
        "#normalising pixel values"
      ],
      "execution_count": 0,
      "outputs": []
    },
    {
      "cell_type": "markdown",
      "metadata": {
        "id": "ncBfPBZczyMR",
        "colab_type": "text"
      },
      "source": [
        "CONVOLUTIONAL BASE STRUCTURE"
      ]
    },
    {
      "cell_type": "code",
      "metadata": {
        "id": "6-CDeZQxz4wz",
        "colab_type": "code",
        "colab": {}
      },
      "source": [
        "model = models.Sequential()\n",
        "model.add(layers.Conv2D(32, (3, 3), activation = 'relu', input_shape = (28, 28, 1))) #convolution to 26*26*32 tensor\n",
        "model.add(layers.AveragePooling2D((2, 2))) #pooling to 13*13*32 tensor\n",
        "model.add(layers.Conv2D(64, (3, 3), activation = 'relu'))\n",
        "model.add(layers.AveragePooling2D((2, 2)))\n",
        "model.add(layers.Conv2D(64, (3, 3), activation = 'relu'))\n",
        "\n",
        "#model.summary()\n",
        "##displays the structural information about the network at this point"
      ],
      "execution_count": 0,
      "outputs": []
    },
    {
      "cell_type": "markdown",
      "metadata": {
        "id": "cK34jAPE3f0r",
        "colab_type": "text"
      },
      "source": [
        "ADD FULLY CONNECTED LAYERS ON TOP"
      ]
    },
    {
      "cell_type": "code",
      "metadata": {
        "id": "W7C1bmOl3jTt",
        "colab_type": "code",
        "colab": {}
      },
      "source": [
        "model.add(layers.Flatten()) #We add another layer which 'flattens' the tensor into a vector\n",
        "model.add(layers.Dense(64, activation = 'relu')) #fully-connected intermediary layer\n",
        "model.add(layers.Dense(10, activation = 'softmax')) #softmax output layer\n",
        "\n",
        "#model.summary()\n",
        "##remember, parameters listed include biases"
      ],
      "execution_count": 0,
      "outputs": []
    },
    {
      "cell_type": "markdown",
      "metadata": {
        "id": "Un7EKSEVLC9A",
        "colab_type": "text"
      },
      "source": [
        "MODEL STRUCTURE"
      ]
    },
    {
      "cell_type": "code",
      "metadata": {
        "id": "m--vqTVELFYt",
        "colab_type": "code",
        "colab": {
          "base_uri": "https://localhost:8080/",
          "height": 425
        },
        "outputId": "662248da-2e49-4d72-fdd8-3fdf97dad2fa"
      },
      "source": [
        "#1.    3*3 convolution window: takes 28*28*1 image to 26*26*32 tensor -- relu activation\n",
        "#2.    2*2 pooling layer: takes 26*26*32 tensor to 13*13*32 tensor\n",
        "#3.    3*3 convolution window: takes 13*13*32 tensor to 11*11*64 tensor -- relu activation\n",
        "#4.    2*2 pooling layer: takes 11*11*64 tensor to 5*5*64 tensor\n",
        "#5.    3*3 convolution window: takes 5*5*64 tensor to 3*3*64 tensor -- relu activation\n",
        "#6.    flattening layer: takes 3*3*64 tensor to vector of length 576\n",
        "#7.    fully-connected layer: 64 neurons -- relu activation\n",
        "#8.    fully-connected layer: 10 neurons -- softmax activation in training model\n",
        "model.summary()"
      ],
      "execution_count": 11,
      "outputs": [
        {
          "output_type": "stream",
          "text": [
            "Model: \"sequential_1\"\n",
            "_________________________________________________________________\n",
            "Layer (type)                 Output Shape              Param #   \n",
            "=================================================================\n",
            "conv2d_3 (Conv2D)            (None, 26, 26, 32)        320       \n",
            "_________________________________________________________________\n",
            "average_pooling2d_2 (Average (None, 13, 13, 32)        0         \n",
            "_________________________________________________________________\n",
            "conv2d_4 (Conv2D)            (None, 11, 11, 64)        18496     \n",
            "_________________________________________________________________\n",
            "average_pooling2d_3 (Average (None, 5, 5, 64)          0         \n",
            "_________________________________________________________________\n",
            "conv2d_5 (Conv2D)            (None, 3, 3, 64)          36928     \n",
            "_________________________________________________________________\n",
            "flatten_1 (Flatten)          (None, 576)               0         \n",
            "_________________________________________________________________\n",
            "dense_2 (Dense)              (None, 64)                36928     \n",
            "_________________________________________________________________\n",
            "dense_3 (Dense)              (None, 10)                650       \n",
            "=================================================================\n",
            "Total params: 93,322\n",
            "Trainable params: 93,322\n",
            "Non-trainable params: 0\n",
            "_________________________________________________________________\n"
          ],
          "name": "stdout"
        }
      ]
    },
    {
      "cell_type": "markdown",
      "metadata": {
        "id": "AoZYnG0r5ku6",
        "colab_type": "text"
      },
      "source": [
        "COMPILATION AND TRAINING OF THE MODEL"
      ]
    },
    {
      "cell_type": "code",
      "metadata": {
        "id": "AfkBnosC5ohR",
        "colab_type": "code",
        "outputId": "acfa918f-f2c7-466e-f927-6ccba7767f6c",
        "colab": {
          "base_uri": "https://localhost:8080/",
          "height": 204
        }
      },
      "source": [
        "model.compile(optimizer = 'adam',\n",
        "             loss = 'sparse_categorical_crossentropy',\n",
        "             metrics = ['accuracy']) #compilation\n",
        "model.fit(train_images, train_labels, epochs = 5)"
      ],
      "execution_count": 12,
      "outputs": [
        {
          "output_type": "stream",
          "text": [
            "Epoch 1/5\n",
            "60000/60000 [==============================] - 50s 841us/sample - loss: 0.1702 - acc: 0.9488\n",
            "Epoch 2/5\n",
            "60000/60000 [==============================] - 51s 842us/sample - loss: 0.0541 - acc: 0.9834\n",
            "Epoch 3/5\n",
            "60000/60000 [==============================] - 51s 843us/sample - loss: 0.0394 - acc: 0.9876\n",
            "Epoch 4/5\n",
            "60000/60000 [==============================] - 50s 832us/sample - loss: 0.0304 - acc: 0.9901\n",
            "Epoch 5/5\n",
            "60000/60000 [==============================] - 49s 825us/sample - loss: 0.0250 - acc: 0.9920\n"
          ],
          "name": "stdout"
        },
        {
          "output_type": "execute_result",
          "data": {
            "text/plain": [
              "<tensorflow.python.keras.callbacks.History at 0x7f2d754d87b8>"
            ]
          },
          "metadata": {
            "tags": []
          },
          "execution_count": 12
        }
      ]
    },
    {
      "cell_type": "markdown",
      "metadata": {
        "id": "gIhxdoIJ7i3i",
        "colab_type": "text"
      },
      "source": [
        "TEST LOSS AND ACCURACY"
      ]
    },
    {
      "cell_type": "code",
      "metadata": {
        "id": "j-5SM8607luV",
        "colab_type": "code",
        "outputId": "bc8e72f0-c4c6-47a2-9051-0efbeeb0e05e",
        "colab": {
          "base_uri": "https://localhost:8080/",
          "height": 34
        }
      },
      "source": [
        "test_loss, test_accuracy = model.evaluate(test_images, test_labels)"
      ],
      "execution_count": 13,
      "outputs": [
        {
          "output_type": "stream",
          "text": [
            "10000/10000 [==============================] - 3s 290us/sample - loss: 0.0309 - acc: 0.9903\n"
          ],
          "name": "stdout"
        }
      ]
    },
    {
      "cell_type": "markdown",
      "metadata": {
        "id": "MJdM1PC1-G8X",
        "colab_type": "text"
      },
      "source": [
        "SAVE PARAMETERS"
      ]
    },
    {
      "cell_type": "code",
      "metadata": {
        "id": "Z8vOzfez-KF9",
        "colab_type": "code",
        "colab": {}
      },
      "source": [
        "#model.save_weights(\n",
        "#    'ccn0_wb.tf',\n",
        "#    overwrite=True,\n",
        "#    save_format=None\n",
        "#)"
      ],
      "execution_count": 0,
      "outputs": []
    },
    {
      "cell_type": "markdown",
      "metadata": {
        "id": "6axYuxa1A19U",
        "colab_type": "text"
      },
      "source": [
        "RUN SOME PREDICTIONS"
      ]
    },
    {
      "cell_type": "code",
      "metadata": {
        "id": "oGDKV5xEA4Lw",
        "colab_type": "code",
        "colab": {}
      },
      "source": [
        "#test_subset = test_images\n",
        "#predictions = model.predict(test_subset, steps = 1)"
      ],
      "execution_count": 0,
      "outputs": []
    },
    {
      "cell_type": "code",
      "metadata": {
        "id": "WEm-HDQcGukB",
        "colab_type": "code",
        "colab": {}
      },
      "source": [
        "#i = 260\n",
        "#equiv = True\n",
        "#sess = tf.Session()\n",
        "##print(predictions[0, :])\n",
        "#while equiv:\n",
        "#  with sess.as_default():\n",
        "#    prd = tf.argmax(predictions[i]).eval()\n",
        "#  if test_labels[i] == prd:\n",
        "#    i = i + 1\n",
        "#  else:\n",
        "#    equiv = False\n",
        "#\n",
        "#place = i# np.random.randint(0, 9999)\n",
        "#with sess.as_default():\n",
        "#  image = tf.reshape(test_subset[place,:,:,:], [28,28]).eval()\n",
        "#image = image*127.5 + 127.5\n",
        "##print(image)\n",
        "#\n",
        "#plt.imshow(image, cmap = 'gray')\n",
        "#plt.axis('off')\n",
        "#plt.show()\n",
        "##PIL.Image.fromarray(image,'gray')\n",
        "#\n",
        "#print('Digit predicted: ', prd)\n",
        "#print('At place ', i + 1, '. The number is a(n) ', test_labels[i])"
      ],
      "execution_count": 0,
      "outputs": []
    },
    {
      "cell_type": "markdown",
      "metadata": {
        "id": "zY9fKnLFEZvz",
        "colab_type": "text"
      },
      "source": [
        "SAVE MODEL"
      ]
    },
    {
      "cell_type": "code",
      "metadata": {
        "id": "9yTibTzeEZM1",
        "colab_type": "code",
        "colab": {}
      },
      "source": [
        "model.save('MNISTmodel.h5')"
      ],
      "execution_count": 0,
      "outputs": []
    },
    {
      "cell_type": "markdown",
      "metadata": {
        "id": "lNeZKJFvINcy",
        "colab_type": "text"
      },
      "source": [
        "RELOAD OLD MODEL OVER NEW ONE"
      ]
    },
    {
      "cell_type": "code",
      "metadata": {
        "id": "fQtUy85pIOHE",
        "colab_type": "code",
        "colab": {}
      },
      "source": [
        "#new_model = keras.models.load_model('MNISTmodel.h5')\n",
        "\n",
        "#loss, acc = new_model.evaluate(test_images, test_labels)\n",
        "#print(\"Trained model, accuracy: {:5.2f}%\".format(100*acc))"
      ],
      "execution_count": 0,
      "outputs": []
    },
    {
      "cell_type": "markdown",
      "metadata": {
        "id": "nSf18pv6QaGd",
        "colab_type": "text"
      },
      "source": [
        "HEATMAPS UTILS"
      ]
    },
    {
      "cell_type": "code",
      "metadata": {
        "id": "XUxq4-zTQhGr",
        "colab_type": "code",
        "colab": {}
      },
      "source": [
        "#import numpy,PIL,PIL.Image\n",
        "\n",
        "lowest = -1.0\n",
        "highest = 1.0\n",
        "\n",
        "# --------------------------------------\n",
        "# Sampling data\n",
        "# --------------------------------------\n",
        "\n",
        "def getMNISTsample(N=12,seed=None,path=''):\n",
        "\n",
        "\tfx = '%s/t10k-images-idx3-ubyte'%path\n",
        "\tft = '%s/t10k-labels-idx1-ubyte'%path\n",
        "\n",
        "\tX  = np.fromfile(open(fx),dtype='ubyte',count=16+784*10000)[16:].reshape([10000,784])\n",
        "\tT  = np.fromfile(open(ft),dtype='ubyte',count=8+10000)[8:]\n",
        "\tT  = (T[:,np.newaxis]  == np.arange(10))*1.0\n",
        "\n",
        "\tif seed==None: seed=np.random\n",
        "\telse: seed=np.random.mtrand.RandomState(seed)\n",
        "\n",
        "\tR = seed.randint(0,len(X),[N])\n",
        "\tX,T = X[R],T[R]\n",
        "\n",
        "\treturn X/255.0*(highest-lowest)+lowest,T\n",
        "\n",
        "# --------------------------------------\n",
        "# Color maps ([-1,1] -> [0,1]^3)\n",
        "# --------------------------------------\n",
        "\n",
        "def heatmap(x):\n",
        "\n",
        "\tx = x[...,np.newaxis]\n",
        "\n",
        "\t# positive relevance\n",
        "\thrp = 0.9 - np.clip(x-0.3,0,0.7)/0.7*0.5\n",
        "\thgp = 0.9 - np.clip(x-0.0,0,0.3)/0.3*0.5 - np.clip(x-0.3,0,0.7)/0.7*0.4\n",
        "\thbp = 0.9 - np.clip(x-0.0,0,0.3)/0.3*0.5 - np.clip(x-0.3,0,0.7)/0.7*0.4\n",
        "\n",
        "\t# negative relevance\n",
        "\thrn = 0.9 - np.clip(-x-0.0,0,0.3)/0.3*0.5 - np.clip(-x-0.3,0,0.7)/0.7*0.4\n",
        "\thgn = 0.9 - np.clip(-x-0.0,0,0.3)/0.3*0.5 - np.clip(-x-0.3,0,0.7)/0.7*0.4\n",
        "\thbn = 0.9 - np.clip(-x-0.3,0,0.7)/0.7*0.5\n",
        "\n",
        "\tr = hrp*(x>=0)+hrn*(x<0)\n",
        "\tg = hgp*(x>=0)+hgn*(x<0)\n",
        "\tb = hbp*(x>=0)+hbn*(x<0)\n",
        "\n",
        "\treturn np.concatenate([r,g,b],axis=-1)\n",
        "\n",
        "\n",
        "def graymap(x):\n",
        "\n",
        "\tx = x[...,np.newaxis]\n",
        "\treturn np.concatenate([x,x,x],axis=-1)*0.5+0.5\n",
        "\n",
        "# --------------------------------------\n",
        "# Visualizing data\n",
        "# --------------------------------------\n",
        "\n",
        "def visualize(x,colormap,name):\n",
        "\n",
        "\tN = len(x); assert(N<=16)\n",
        "\n",
        "\tx = colormap(x/np.abs(x).max())\n",
        "\n",
        "\t# Create a mosaic and upsample\n",
        "\tx = x.reshape([1,N,28,28,3])\n",
        "\tx = np.pad(x,((0,0),(0,0),(2,2),(2,2),(0,0)),'constant',constant_values=1)\n",
        "\tx = x.transpose([0,2,1,3,4]).reshape([1*32,N*32,3])\n",
        "\tx = np.kron(x,np.ones([2,2,1]))\n",
        "\n",
        "\tPIL.Image.fromarray((x*255).astype('byte'),'RGB').save(name)"
      ],
      "execution_count": 0,
      "outputs": []
    },
    {
      "cell_type": "markdown",
      "metadata": {
        "id": "Qj87cX11RAVE",
        "colab_type": "text"
      },
      "source": [
        "HEATMAPS MODULES"
      ]
    },
    {
      "cell_type": "code",
      "metadata": {
        "id": "K6D-UGr4Q4QF",
        "colab_type": "code",
        "colab": {}
      },
      "source": [
        "#import numpy\n",
        "\n",
        "# -------------------------\n",
        "# Feed-forward network\n",
        "# -------------------------\n",
        "class Network:\n",
        "\n",
        "\tdef __init__(self,layers):\n",
        "\t\tself.layers = layers\n",
        "\n",
        "\tdef forward(self,Z):\n",
        "\t\tfor l in self.layers: Z = l.forward(Z)\n",
        "\t\treturn Z\n",
        "\n",
        "\tdef gradprop(self,DZ):\n",
        "\t\tfor l in self.layers[::-1]: DZ = l.gradprop(DZ)\n",
        "\t\treturn DZ\n",
        "\n",
        "# -------------------------\n",
        "# ReLU activation layer\n",
        "# -------------------------\n",
        "class ReLU:\n",
        "\n",
        "\tdef forward(self,X):\n",
        "\t\tself.Z = X>0\n",
        "\t\treturn X*self.Z\n",
        "\n",
        "\tdef gradprop(self,DY):\n",
        "\t\treturn DY*self.Z\n",
        "\n",
        "# -------------------------\n",
        "# Fully-connected layer\n",
        "# -------------------------\n",
        "class Linear:\n",
        "\n",
        "\tdef __init__(self,name):\n",
        "\t\tself.W = np.loadtxt(name+'-W.txt')\n",
        "\t\tself.B = np.loadtxt(name+'-B.txt')\n",
        "\n",
        "\tdef forward(self,X):\n",
        "\t\tself.X = X\n",
        "\t\treturn np.dot(self.X,self.W)+self.B\n",
        "\n",
        "\tdef gradprop(self,DY):\n",
        "\t\tself.DY = DY\n",
        "\t\treturn np.dot(self.DY,self.W.T)\n",
        "\n",
        "# -------------------------\n",
        "# Sum-pooling layer\n",
        "# -------------------------\n",
        "class Pooling:\n",
        "\n",
        "\tdef forward(self,X):\n",
        "\t\tself.X = X\n",
        "\t\tself.Y = 0.5*(X[:,::2,::2,:]+X[:,::2,1::2,:]+X[:,1::2,::2,:]+X[:,1::2,1::2,:])\n",
        "\t\treturn self.Y\n",
        "\n",
        "\tdef gradprop(self,DY):\n",
        "\t\tself.DY = DY\n",
        "\t\tDX = self.X*0\n",
        "\t\tfor i,j in [(0,0),(0,1),(1,0),(1,1)]: DX[:,i::2,j::2,:] += DY*0.5\n",
        "\t\treturn DX\n",
        "\n",
        "# -------------------------\n",
        "# Convolution layer\n",
        "# -------------------------\n",
        "class Convolution:\n",
        "\n",
        "\tdef __init__(self,name):\n",
        "\t\twshape = map(int,list(name.split(\"-\")[-1].split(\"x\")))\n",
        "\t\tself.W = np.loadtxt(name+'-W.txt').reshape(wshape)\n",
        "\t\tself.B = np.loadtxt(name+'-B.txt')\n",
        "\n",
        "\tdef forward(self,X):\n",
        "\n",
        "\t\tself.X = X\n",
        "\t\tmb,wx,hx,nx = X.shape\n",
        "\t\tww,hw,nx,ny = self.W.shape\n",
        "\t\twy,hy       = wx-ww+1,hx-hw+1\n",
        "\n",
        "\t\tY = np.zeros([mb,wy,hy,ny],dtype='float32')\n",
        "\n",
        "\t\tfor i in range(ww):\n",
        "\t\t\tfor j in range(hw):\n",
        "\t\t\t\tY += np.dot(X[:,i:i+wy,j:j+hy,:],self.W[i,j,:,:])\n",
        "\n",
        "\t\treturn Y+self.B\n",
        "\n",
        "\tdef gradprop(self,DY):\n",
        "\n",
        "\t\tself.DY = DY\n",
        "\t\tmb,wy,hy,ny = DY.shape\n",
        "\t\tww,hw,nx,ny = self.W.shape\n",
        "\n",
        "\t\tDX = self.X*0\n",
        "\n",
        "\t\tfor i in range(ww):\n",
        "\t\t\tfor j in range(hw):\n",
        "\t\t\t\tDX[:,i:i+wy,j:j+hy,:] += np.dot(DY,self.W[i,j,:,:].T)\n",
        "\n",
        "\t\treturn DX"
      ],
      "execution_count": 0,
      "outputs": []
    },
    {
      "cell_type": "code",
      "metadata": {
        "id": "wL45O1-kLuuN",
        "colab_type": "code",
        "colab": {}
      },
      "source": [
        "##DENSE LAYER FUNCTIONS##\n",
        "\n",
        "def forward_first(X, W, B):\n",
        "  return np.matmul(X, W) + B\n",
        "\n",
        "def relprop_first(X, W, R):\n",
        "  V = np.maximum(0, W)\n",
        "  U = np.minimum(0, W)\n",
        "  L = X*0 + lowest  #vector of the same number -- lower bound\n",
        "  H = X*0 + highest #vector of the same number -- upper bound\n",
        "  \n",
        "  Z = np.matmul(X, W) - np.matmul(L, V) - np.matmul(H, U) + 1e-9\n",
        "  S = R/Z\n",
        "  R = X*np.dot(S, W.T) - L*np.dot(S, V.T) - H*np.dot(S, U.T)\n",
        "  return R\n",
        "  \n",
        "def forward_next(X, W, B):\n",
        "  return np.matmul(X, W) + B\n",
        "\n",
        "def relprop_next(X, W, R):\n",
        "  V = np.maximum(0, W)\n",
        "  Z = np.matmul(X, V) + 1e-9 #we divide by this later -- no division by zero!\n",
        "  S = R/Z\n",
        "  C = np.dot(S, V.T)\n",
        "  R = X*C\n",
        "  return R\n",
        "  \n",
        "def forward_relu(X):\n",
        "  Z = X>0\n",
        "  return X*Z\n",
        "\n",
        "def relprop_relu(R):\n",
        "  return R\n",
        "\n",
        "\n",
        "##CONVOLUTION FUNCTIONS##\n",
        "\n",
        "def forward_conv(X, V, B):\n",
        "  mb,wx,hx,nx = X.shape\n",
        "  ww,hw,nx,ny = V.shape\n",
        "  wy,hy= wx-ww+1,hx-hw+1\n",
        "  Y = np.zeros([mb,wy,hy,ny],dtype='float32')\n",
        "  for i in range(ww):\n",
        "    for j in range(hw):\n",
        "      Y += np.dot(X[:,i:i+wy,j:j+hy,:],V[i,j,:,:])\n",
        "  return Y + B\n",
        "\n",
        "def gradprop_conv(X, W, DY):\n",
        "  mb,wy,hy,ny = DY.shape\n",
        "  ww,hw,nx,ny = W.shape\n",
        "  DX = X*0\n",
        "  for i in range(ww):\n",
        "    for j in range(hw):\n",
        "      DX[:,i:i+wy,j:j+hy,:] += np.dot(DY,W[i,j,:,:].T)\n",
        "  return DX\n",
        "\n",
        "def relprop_nextconv(X, W, R):\n",
        "  V = np.maximum(0, W)\n",
        "  Z = forward_conv(X, V, 0) + 1e-9\n",
        "  S = R/Z\n",
        "  C = gradprop_conv(X, W, S)\n",
        "  R = X*C\n",
        "  return R\n",
        "\n",
        "def relprop_firstconv(X, W, R):\n",
        "  V = np.maximum(0, W)\n",
        "  U = np.minimum(0, W)\n",
        "  \n",
        "  L = X*0 + lowest\n",
        "  H = X*0 + highest\n",
        "  \n",
        "  Z = forward_conv(X, W, R) - forward_conv(L, V, R) - forward_conv(H, U, R) + 1e-9\n",
        "  \n",
        "  S = R/Z\n",
        "  R = X*gradprop_conv(X, W, S) - L*gradprop_conv(L, V, S) - H*gradprop_conv(H, U, S)\n",
        "  return R\n",
        "\n",
        "\n",
        "##POOLING FUNCTIONS##\n",
        "\n",
        "def forward_pooling(X):\n",
        "  x = int(2*np.floor(X.shape[1]/2.0))\n",
        "  y = int(2*np.floor(X.shape[2]/2.0))\n",
        "  #A[0] = X[:,:x:2,:y:2,:]\n",
        "  #A[1] = X[:,:x:2,1:y:2,:]\n",
        "  #A[2] = X[:,1:x:2,:y:2,:]\n",
        "  #A[3] = X[:,1:x:2,1:y:2,:]\n",
        "  \n",
        "  Y = 0.25*(X[:,:x:2,:y:2,:]+X[:,:x:2,1:y:2,:]+X[:,1:x:2,:y:2,:]+X[:,1:x:2,1:y:2,:])\n",
        "  return Y\n",
        "\n",
        "def gradprop_pooling(X, DY):\n",
        "  x = int(2*np.floor(X.shape[1]/2.0))\n",
        "  y = int(2*np.floor(X.shape[2]/2.0))\n",
        "  DX = X*0\n",
        "  for i,j in [(0,0),(0,1),(1,0),(1,1)]: DX[:,i:x:2,j:y:2,:] += DY*0.5\n",
        "  return DX\n",
        "\n",
        "def relprop_pooling(X, R):\n",
        "  Z = forward_pooling(X) + 1e-9\n",
        "  S = R/Z\n",
        "  C = gradprop_pooling(X, S)\n",
        "  R = X*C\n",
        "  return R\n",
        "\n",
        "\n",
        "##RELU FUNCTIONS##\n",
        "\n",
        "def forward_relu(X):\n",
        "  Z = X>0\n",
        "  return X*Z\n",
        "\n",
        "def relprop_relu(R):\n",
        "  return R"
      ],
      "execution_count": 0,
      "outputs": []
    },
    {
      "cell_type": "markdown",
      "metadata": {
        "id": "8Y2mubpVFb76",
        "colab_type": "text"
      },
      "source": [
        "IMPLEMENTING HEATMAPPINGS"
      ]
    },
    {
      "cell_type": "code",
      "metadata": {
        "id": "kxmGH0WCTM80",
        "colab_type": "code",
        "colab": {
          "base_uri": "https://localhost:8080/",
          "height": 156
        },
        "outputId": "50129da8-a86d-437f-9367-66f484e24f0b"
      },
      "source": [
        "map_model = models.Sequential()\n",
        "map_model.add(layers.Conv2D(32, (3, 3), activation = 'relu', input_shape = (28, 28, 1))) #convolution to 26*26*32 tensor\n",
        "map_model.add(layers.AveragePooling2D((2, 2))) #pooling to 13*13*32 tensor\n",
        "map_model.add(layers.Conv2D(64, (3, 3), activation = 'relu'))\n",
        "map_model.add(layers.AveragePooling2D((2, 2)))\n",
        "map_model.add(layers.Conv2D(64, (3, 3), activation = 'relu'))\n",
        "\n",
        "map_model.add(layers.Flatten()) #We add another layer which 'flattens' the tensor into a vector\n",
        "map_model.add(layers.Dense(64, activation = 'relu')) #fully-connected intermediary layer\n",
        "map_model.add(layers.Dense(10))\n",
        "\n",
        "#model.summary()\n",
        "#print()\n",
        "#map_model.summary()\n",
        "\n",
        "#map_model.set_weights(model.get_weights())\n",
        "map_model = keras.models.load_model('MNISTmapmodel.h5')\n",
        "#mapping model is the same as the original trained model, but with no softmax activation in the final layer"
      ],
      "execution_count": 50,
      "outputs": [
        {
          "output_type": "stream",
          "text": [
            "W0823 18:49:10.882965 139834315306880 deprecation.py:506] From /usr/local/lib/python3.6/dist-packages/tensorflow/python/ops/init_ops.py:97: calling GlorotUniform.__init__ (from tensorflow.python.ops.init_ops) with dtype is deprecated and will be removed in a future version.\n",
            "Instructions for updating:\n",
            "Call initializer instance with the dtype argument instead of passing it to the constructor\n",
            "W0823 18:49:10.886118 139834315306880 deprecation.py:506] From /usr/local/lib/python3.6/dist-packages/tensorflow/python/ops/init_ops.py:97: calling Zeros.__init__ (from tensorflow.python.ops.init_ops) with dtype is deprecated and will be removed in a future version.\n",
            "Instructions for updating:\n",
            "Call initializer instance with the dtype argument instead of passing it to the constructor\n",
            "W0823 18:49:11.215407 139834315306880 hdf5_format.py:221] No training configuration found in save file: the model was *not* compiled. Compile it manually.\n"
          ],
          "name": "stderr"
        }
      ]
    },
    {
      "cell_type": "code",
      "metadata": {
        "id": "1zUnZJ706Efv",
        "colab_type": "code",
        "colab": {}
      },
      "source": [
        "N = 12\n",
        "positions = np.random.randint(0, 10000, size = (N,))\n",
        "X, L = test_images[:N, :, :], test_labels[:N]"
      ],
      "execution_count": 0,
      "outputs": []
    },
    {
      "cell_type": "code",
      "metadata": {
        "id": "wuibzrFx6FiW",
        "colab_type": "code",
        "colab": {
          "base_uri": "https://localhost:8080/",
          "height": 68
        },
        "outputId": "d4cd9258-f449-470e-85d7-3dd09cee49e6"
      },
      "source": [
        "n = 0\n",
        "sess = tf.Session()\n",
        "\n",
        "images_to_map = np.empty(shape = (1, 28, 28, 1))\n",
        "L_itm = np.empty(shape = (1))\n",
        "\n",
        "for i in range(0, N):\n",
        "  X[i, :, :, :] = test_images[positions[i], :, :, :]\n",
        "  L[i] = test_labels[positions[i]]\n",
        "  with sess.as_default():\n",
        "    img = tf.reshape(X[i], [28, 28]).eval()\n",
        "  #plt.imshow(img, cmap = 'gray')\n",
        "  #plt.axis('off')\n",
        "  one_prediction = map_model.predict(X[i:(i + 1), :, :, :])\n",
        "  decision = np.argmax(one_prediction)\n",
        "  if decision == L[i]:\n",
        "    #print(decision)\n",
        "    #print(one_prediction)\n",
        "    #plt.show()\n",
        "    n += 1\n",
        "    images_to_map = np.append(images_to_map, X[i:(i + 1), :, :, :], axis = 0)\n",
        "    L_itm = np.append(L_itm, L[i:(i + 1)], axis = 0)\n",
        "  else:\n",
        "    print('!!! decision {} not equal to value {} !!!'.format(decision, L[i]))\n",
        "\n",
        "images_to_map = np.delete(images_to_map, 0, 0)\n",
        "L_itm = np.delete(L_itm, 0, 0)\n",
        "print()\n",
        "print('Shape of images array: {}'.format(images_to_map.shape))\n",
        "\n",
        "print('Total number of acceptable examples: {}/{}'.format(n, N))"
      ],
      "execution_count": 52,
      "outputs": [
        {
          "output_type": "stream",
          "text": [
            "\n",
            "Shape of images array: (12, 28, 28, 1)\n",
            "Total number of acceptable examples: 12/12\n"
          ],
          "name": "stdout"
        }
      ]
    },
    {
      "cell_type": "code",
      "metadata": {
        "id": "QcEiKVFaBlCG",
        "colab_type": "code",
        "colab": {}
      },
      "source": [
        "map_model.summary()"
      ],
      "execution_count": 0,
      "outputs": []
    },
    {
      "cell_type": "code",
      "metadata": {
        "id": "_kglOXeCApAl",
        "colab_type": "code",
        "colab": {}
      },
      "source": [
        "CW1 = np.asarray(map_model.get_weights()[0]) #3*3*32 list of weights --> array, taking input to 26*26*32 tensor\n",
        "CW2 = np.asarray(map_model.get_weights()[2]) #3*3*32*64 list of weights --> array, taking 13*13*32 pooled tensor to 11*11*64 tensor\n",
        "CW3 = np.asarray(map_model.get_weights()[4]) #3*3*64*64 list of weights --> array, taking 5*5*64 pooled tensor to 3*3*64 tensor\n",
        "\n",
        "CB1 = np.asarray(map_model.get_weights()[1]) #First convolutional layer's 32 biases --> array\n",
        "CB2 = np.asarray(map_model.get_weights()[3]) #Second convolutional layer's 64 biases --> array\n",
        "CB3 = np.asarray(map_model.get_weights()[5]) #Third convolutional layer's 64 biases --> array\n",
        "\n",
        "DW1 = np.asarray(map_model.get_weights()[6]) #576*64 list of weights --> array, taking 3*3*64 array (flattened tensor) to 64 nodes\n",
        "DW2 = np.asarray(map_model.get_weights()[8]) #64*10 list of weights --> array, taking 64 nodes to 10 nodes\n",
        "\n",
        "DB1 = np.asarray(map_model.get_weights()[7]) #First dense layer's 64 biases --> array\n",
        "DB2 = np.asarray(map_model.get_weights()[9]) #Second dense layer's 10 biases --> array\n",
        "\n",
        "\n",
        "##LAYERS STRUCTURE##\n",
        "\n",
        "#1.    3*3 convolution window: takes 28*28*1 image to 26*26*32 tensor -- relu activation       CW1, CB1\n",
        "#2.    2*2 pooling layer: takes 26*26*32 tensor to 13*13*32 tensor\n",
        "#3.    3*3 convolution window: takes 13*13*32 tensor to 11*11*64 tensor -- relu activation     CW2, CB2\n",
        "#4.    2*2 pooling layer: takes 11*11*64 tensor to 5*5*64 tensor\n",
        "#5.    3*3 convolution window: takes 5*5*64 tensor to 3*3*64 tensor -- relu activation         CW3, CB3\n",
        "#6.    flattening layer: takes 3*3*64 tensor to vector of length 576\n",
        "#7.    fully-connected layer: 64 neurons -- relu activation                                    DW1, DB1\n",
        "#8.    fully-connected layer: 10 neurons -- softmax activation in training model               DW2, DB2"
      ],
      "execution_count": 0,
      "outputs": []
    },
    {
      "cell_type": "code",
      "metadata": {
        "id": "TifhxwFRLIq_",
        "colab_type": "code",
        "colab": {
          "base_uri": "https://localhost:8080/",
          "height": 1000
        },
        "outputId": "6131d5ad-2b19-4af6-9347-d7289ec89c9b"
      },
      "source": [
        "X0 = np.zeros((1, 28, 28, 1))\n",
        "X1 = np.zeros((1, 26, 26, 32))\n",
        "Relu1 = np.zeros((1, 26, 26, 32))\n",
        "X2 = np.zeros((1, 13, 13, 32))\n",
        "X3 = np.zeros((1, 11, 11, 64))\n",
        "Relu3 = np.zeros((1, 11, 11, 64))\n",
        "X4 = np.zeros((1, 5, 5, 64))\n",
        "X5 = np.zeros((1, 3, 3, 64))\n",
        "Relu5 = np.zeros((1, 3, 3, 64))\n",
        "X6 = np.zeros(576)\n",
        "X7 = np.zeros(64)\n",
        "Relu7 = np.zeros(64)\n",
        "X8 = np.zeros(10)\n",
        "\n",
        "R = np.zeros(10)\n",
        "\n",
        "LK = np.zeros((n, 10))\n",
        "#print(L)\n",
        "for j in range(0, n):\n",
        "  LK[j, :] = signal.unit_impulse(10, L[j])\n",
        "#print(LK)\n",
        "\n",
        "for k in range(0, n):\n",
        "  X0 = images_to_map[k:(k + 1), :, :, :]\n",
        "  X1 = forward_conv(X0, CW1, CB1)\n",
        "  Relu1 = forward_relu(X1)\n",
        "  X2 = forward_pooling(Relu1)\n",
        "  X3 = forward_conv(X2, CW2, CB2)\n",
        "  Relu3 = forward_relu(X3)\n",
        "  X4 = forward_pooling(Relu3)\n",
        "  X5 = forward_conv(X4, CW3, CB3)\n",
        "  Relu5 = forward_relu(X5)\n",
        "  X6 = np.reshape(Relu5, (576))\n",
        "  X7 = forward_next(X6, DW1, DB1)\n",
        "  Relu7 = forward_relu(X7)\n",
        "  X8 = forward_next(Relu7, DW2, DB2)\n",
        "  \n",
        "  R = X8*0\n",
        "  R[int(np.argmax(X8))] = np.dot(X8, LK[k, :])\n",
        "  #R = X8\n",
        "  \n",
        "  #R = relprop_relu(R)                 #8.\n",
        "  ##print(R.shape)\n",
        "  R = relprop_next(X7, DW2, R)        #7.b\n",
        "  #print(R.shape)\n",
        "  R = relprop_next(X6, DW1, R)        #7.a\n",
        "  #print(R.shape)\n",
        "  R = np.reshape(R, (1, 3, 3, 64))    #6\n",
        "  #print(R.shape)\n",
        "  #R = relprop_relu(R)                 #5.b\n",
        "  ##print(R.shape)\n",
        "  R = relprop_nextconv(X4, CW3, R)    #5.a\n",
        "  #print(R.shape)\n",
        "  R = relprop_pooling(Relu3, R)       #4\n",
        "  #print(R.shape)\n",
        "  #R = relprop_relu(R)                 #3.b\n",
        "  ##print(R.shape)\n",
        "  R = relprop_nextconv(X2, CW2, R)    #3.a\n",
        "  #print(R.shape)\n",
        "  R = relprop_pooling(Relu1, R)       #2\n",
        "  #print(R.shape)\n",
        "  #R = relprop_relu(R)                 #1.b\n",
        "  ##print(R.shape)\n",
        "  R = relprop_firstconv(X0, CW1, R)   #1.a\n",
        "  #print(R.shape)\n",
        "  \n",
        "  R.shape = (28*28)\n",
        "  r = np.max(R)\n",
        "  \n",
        "  R.shape = (28, 28)\n",
        "  print(L_itm[k])\n",
        "  plt.imshow(images_to_map[k, :, :, 0], cmap = 'gray')\n",
        "  plt.axis('off')\n",
        "  plt.show()\n",
        "  plt.imshow(R/r, cmap = 'Reds_r')\n",
        "  plt.axis('off')\n",
        "  plt.colorbar()#ticks = [])\n",
        "  plt.show()\n",
        "  \n",
        "  #fig, (ax1, ax2) = plt.subplots(figsize=(13, 3))\n",
        "  #num = ax1.imshow(images_to_map[k, :, :, 0], cmap = 'gray')\n",
        "  #hm = ax2.imshow(R, cmap = 'Reds_r')\n",
        "  #fig.colorbar(ax=ax2)\n",
        "  \n",
        "  \n",
        "##LAYERS STRUCTURE##\n",
        "\n",
        "#1.    3*3 convolution window: takes 28*28*1 image to 26*26*32 tensor -- relu activation       CW1, CB1    X0    a--> X1 b--> Relu1\n",
        "#2.    2*2 pooling layer: takes 26*26*32 tensor to 13*13*32 tensor                                         Relu1  --> X2\n",
        "#3.    3*3 convolution window: takes 13*13*32 tensor to 11*11*64 tensor -- relu activation     CW2, CB2    X2    a--> X3 b--> Relu3\n",
        "#4.    2*2 pooling layer: takes 11*11*64 tensor to 5*5*64 tensor                                           Relu3  --> X4\n",
        "#5.    3*3 convolution window: takes 5*5*64 tensor to 3*3*64 tensor -- relu activation         CW3, CB3    X4    a--> X5 b--> Relu5\n",
        "#6.    flattening layer: takes 3*3*64 tensor to vector of length 576                                       Relu5  --> X6\n",
        "#7.    fully-connected layer: 64 neurons -- relu activation                                    DW1, DB1    X6    a--> X7 b--> Relu7\n",
        "#8.    fully-connected layer: 10 neurons -- softmax activation in training model               DW2, DB2    Relu7 --> X8"
      ],
      "execution_count": 54,
      "outputs": [
        {
          "output_type": "stream",
          "text": [
            "0.0\n"
          ],
          "name": "stdout"
        },
        {
          "output_type": "display_data",
          "data": {
            "image/png": "[encoded data removed]",
            "text/plain": [
              "<Figure size 432x288 with 1 Axes>"
            ]
          },
          "metadata": {
            "tags": []
          }
        },
        {
          "output_type": "display_data",
          "data": {
            "image/png": "[encoded data removed]",
            "text/plain": [
              "<Figure size 432x288 with 2 Axes>"
            ]
          },
          "metadata": {
            "tags": []
          }
        },
        {
          "output_type": "stream",
          "text": [
            "0.0\n"
          ],
          "name": "stdout"
        },
        {
          "output_type": "display_data",
          "data": {
            "image/png": "[encoded data removed]",
            "text/plain": [
              "<Figure size 432x288 with 1 Axes>"
            ]
          },
          "metadata": {
            "tags": []
          }
        },
        {
          "output_type": "display_data",
          "data": {
            "image/png": "[encoded data removed]",
            "text/plain": [
              "<Figure size 432x288 with 2 Axes>"
            ]
          },
          "metadata": {
            "tags": []
          }
        },
        {
          "output_type": "stream",
          "text": [
            "0.0\n"
          ],
          "name": "stdout"
        },
        {
          "output_type": "display_data",
          "data": {
            "image/png": "[encoded data removed]",
            "text/plain": [
              "<Figure size 432x288 with 1 Axes>"
            ]
          },
          "metadata": {
            "tags": []
          }
        },
        {
          "output_type": "display_data",
          "data": {
            "image/png": "[encoded data removed]",
            "text/plain": [
              "<Figure size 432x288 with 2 Axes>"
            ]
          },
          "metadata": {
            "tags": []
          }
        },
        {
          "output_type": "stream",
          "text": [
            "8.0\n"
          ],
          "name": "stdout"
        },
        {
          "output_type": "display_data",
          "data": {
            "image/png": "[encoded data removed]",
            "text/plain": [
              "<Figure size 432x288 with 1 Axes>"
            ]
          },
          "metadata": {
            "tags": []
          }
        },
        {
          "output_type": "display_data",
          "data": {
            "image/png": "[encoded data removed]",
            "text/plain": [
              "<Figure size 432x288 with 2 Axes>"
            ]
          },
          "metadata": {
            "tags": []
          }
        },
        {
          "output_type": "stream",
          "text": [
            "1.0\n"
          ],
          "name": "stdout"
        },
        {
          "output_type": "display_data",
          "data": {
            "image/png": "[encoded data removed]",
            "text/plain": [
              "<Figure size 432x288 with 1 Axes>"
            ]
          },
          "metadata": {
            "tags": []
          }
        },
        {
          "output_type": "display_data",
          "data": {
            "image/png": "[encoded data removed]",
            "text/plain": [
              "<Figure size 432x288 with 2 Axes>"
            ]
          },
          "metadata": {
            "tags": []
          }
        },
        {
          "output_type": "stream",
          "text": [
            "1.0\n"
          ],
          "name": "stdout"
        },
        {
          "output_type": "display_data",
          "data": {
            "image/png": "[encoded data removed]",
            "text/plain": [
              "<Figure size 432x288 with 1 Axes>"
            ]
          },
          "metadata": {
            "tags": []
          }
        },
        {
          "output_type": "display_data",
          "data": {
            "image/png": "[encoded data removed]",
            "text/plain": [
              "<Figure size 432x288 with 2 Axes>"
            ]
          },
          "metadata": {
            "tags": []
          }
        },
        {
          "output_type": "stream",
          "text": [
            "0.0\n"
          ],
          "name": "stdout"
        },
        {
          "output_type": "display_data",
          "data": {
            "image/png": "[encoded data removed]",
            "text/plain": [
              "<Figure size 432x288 with 1 Axes>"
            ]
          },
          "metadata": {
            "tags": []
          }
        },
        {
          "output_type": "display_data",
          "data": {
            "image/png": "[encoded data removed]",
            "text/plain": [
              "<Figure size 432x288 with 2 Axes>"
            ]
          },
          "metadata": {
            "tags": []
          }
        },
        {
          "output_type": "stream",
          "text": [
            "3.0\n"
          ],
          "name": "stdout"
        },
        {
          "output_type": "display_data",
          "data": {
            "image/png": "[encoded data removed]",
            "text/plain": [
              "<Figure size 432x288 with 1 Axes>"
            ]
          },
          "metadata": {
            "tags": []
          }
        },
        {
          "output_type": "display_data",
          "data": {
            "image/png": "[encoded data removed]",
            "text/plain": [
              "<Figure size 432x288 with 2 Axes>"
            ]
          },
          "metadata": {
            "tags": []
          }
        },
        {
          "output_type": "stream",
          "text": [
            "0.0\n"
          ],
          "name": "stdout"
        },
        {
          "output_type": "display_data",
          "data": {
            "image/png": "[encoded data removed]",
            "text/plain": [
              "<Figure size 432x288 with 1 Axes>"
            ]
          },
          "metadata": {
            "tags": []
          }
        },
        {
          "output_type": "display_data",
          "data": {
            "image/png": "[encoded data removed]",
            "text/plain": [
              "<Figure size 432x288 with 2 Axes>"
            ]
          },
          "metadata": {
            "tags": []
          }
        },
        {
          "output_type": "stream",
          "text": [
            "6.0\n"
          ],
          "name": "stdout"
        },
        {
          "output_type": "display_data",
          "data": {
            "image/png": "[encoded data removed]",
            "text/plain": [
              "<Figure size 432x288 with 1 Axes>"
            ]
          },
          "metadata": {
            "tags": []
          }
        },
        {
          "output_type": "display_data",
          "data": {
            "image/png": "[encoded data removed]",
            "text/plain": [
              "<Figure size 432x288 with 2 Axes>"
            ]
          },
          "metadata": {
            "tags": []
          }
        },
        {
          "output_type": "stream",
          "text": [
            "2.0\n"
          ],
          "name": "stdout"
        },
        {
          "output_type": "display_data",
          "data": {
            "image/png": "[encoded data removed]",
            "text/plain": [
              "<Figure size 432x288 with 1 Axes>"
            ]
          },
          "metadata": {
            "tags": []
          }
        },
        {
          "output_type": "display_data",
          "data": {
            "image/png": "[encoded data removed]",
            "text/plain": [
              "<Figure size 432x288 with 2 Axes>"
            ]
          },
          "metadata": {
            "tags": []
          }
        },
        {
          "output_type": "stream",
          "text": [
            "9.0\n"
          ],
          "name": "stdout"
        },
        {
          "output_type": "display_data",
          "data": {
            "image/png": "[encoded data removed]",
            "text/plain": [
              "<Figure size 432x288 with 1 Axes>"
            ]
          },
          "metadata": {
            "tags": []
          }
        },
        {
          "output_type": "display_data",
          "data": {
            "image/png": "[encoded data removed]",
            "text/plain": [
              "<Figure size 432x288 with 2 Axes>"
            ]
          },
          "metadata": {
            "tags": []
          }
        }
      ]
    },
    {
      "cell_type": "code",
      "metadata": {
        "id": "35tqwHe8mQEA",
        "colab_type": "code",
        "colab": {
          "base_uri": "https://localhost:8080/",
          "height": 1000
        },
        "outputId": "797aa73c-a4a8-4770-c7b9-e7982e8a0100"
      },
      "source": [
        "LK_opp = np.zeros((n, 10))\n",
        "\n",
        "for k in range(0, n):\n",
        "  X0 = images_to_map[k:(k + 1), :, :, :]\n",
        "  X1 = forward_conv(X0, CW1, CB1)\n",
        "  Relu1 = forward_relu(X1)\n",
        "  X2 = forward_pooling(Relu1)\n",
        "  X3 = forward_conv(X2, CW2, CB2)\n",
        "  Relu3 = forward_relu(X3)\n",
        "  X4 = forward_pooling(Relu3)\n",
        "  X5 = forward_conv(X4, CW3, CB3)\n",
        "  Relu5 = forward_relu(X5)\n",
        "  X6 = np.reshape(Relu5, (576))\n",
        "  X7 = forward_next(X6, DW1, DB1)\n",
        "  Relu7 = forward_relu(X7)\n",
        "  X8 = forward_next(Relu7, DW2, DB2)\n",
        "  \n",
        "  LK_opp[k, :] = signal.unit_impulse(10, np.argmax(-X8))\n",
        "  \n",
        "  R = X8*0\n",
        "  R_opp = X8*0\n",
        "  R[int(np.argmax(X8))] = np.dot(X8, LK[k, :])\n",
        "  R_opp[int(np.argmax(X8))] = np.dot(X8, LK_opp[k, :])\n",
        "  #R_opp = R_opp - R\n",
        "  \n",
        "  R_opp = relprop_next(X7, DW2, R_opp)        #7.b\n",
        "  R_opp = relprop_next(X6, DW1, R_opp)        #7.a\n",
        "  R_opp = np.reshape(R_opp, (1, 3, 3, 64))    #6\n",
        "  R_opp = relprop_nextconv(X4, CW3, R_opp)    #5.a\n",
        "  R_opp = relprop_pooling(Relu3, R_opp)       #4\n",
        "  R_opp = relprop_nextconv(X2, CW2, R_opp)    #3.a\n",
        "  R_opp = relprop_pooling(Relu1, R_opp)       #2\n",
        "  R_opp = relprop_firstconv(X0, CW1, R_opp)   #1.a\n",
        "  \n",
        "  R = relprop_next(X7, DW2, R)        #7.b\n",
        "  R = relprop_next(X6, DW1, R)        #7.a\n",
        "  R = np.reshape(R, (1, 3, 3, 64))    #6\n",
        "  R = relprop_nextconv(X4, CW3, R)    #5.a\n",
        "  R = relprop_pooling(Relu3, R)       #4\n",
        "  R = relprop_nextconv(X2, CW2, R)    #3.a\n",
        "  R = relprop_pooling(Relu1, R)       #2\n",
        "  R = relprop_firstconv(X0, CW1, R)   #1.a\n",
        "  \n",
        "  R.shape = (28*28)\n",
        "  R_opp.shape = (28*28)\n",
        "  r = np.max(R)\n",
        "  r_opp = np.abs(np.min(R_opp))\n",
        "  \n",
        "  R_opp.shape = (28, 28)\n",
        "  R.shape = (28, 28)\n",
        "  print(L_itm[k])\n",
        "  plt.imshow(images_to_map[k, :, :, 0], cmap = 'gray')\n",
        "  plt.axis('off')\n",
        "  plt.savefig('gmap{}'.format(k))\n",
        "  plt.show()\n",
        "  plt.imshow(R/r, cmap = 'Reds_r')\n",
        "  plt.axis('off')\n",
        "  plt.colorbar()#ticks = [])\n",
        "  plt.savefig('hmap{}'.format(k))\n",
        "  plt.show()\n",
        "  print(np.argmax(LK_opp[k, :]))\n",
        "  plt.imshow(R_opp/r_opp, cmap = 'Reds_r')\n",
        "  plt.axis('off')\n",
        "  plt.colorbar()#ticks = [])\n",
        "  plt.savefig('nhmap{}'.format(k))\n",
        "  plt.show()\n",
        "  print()\n",
        "  print()"
      ],
      "execution_count": 32,
      "outputs": [
        {
          "output_type": "stream",
          "text": [
            "4.0\n"
          ],
          "name": "stdout"
        },
        {
          "output_type": "display_data",
          "data": {
            "image/png": "[encoded data removed]",
            "text/plain": [
              "<Figure size 432x288 with 1 Axes>"
            ]
          },
          "metadata": {
            "tags": []
          }
        },
        {
          "output_type": "display_data",
          "data": {
            "image/png": "[encoded data removed]",
            "text/plain": [
              "<Figure size 432x288 with 2 Axes>"
            ]
          },
          "metadata": {
            "tags": []
          }
        },
        {
          "output_type": "stream",
          "text": [
            "3\n"
          ],
          "name": "stdout"
        },
        {
          "output_type": "display_data",
          "data": {
            "image/png": "[encoded data removed]",
            "text/plain": [
              "<Figure size 432x288 with 2 Axes>"
            ]
          },
          "metadata": {
            "tags": []
          }
        },
        {
          "output_type": "stream",
          "text": [
            "\n",
            "\n",
            "4.0\n"
          ],
          "name": "stdout"
        },
        {
          "output_type": "display_data",
          "data": {
            "image/png": "[encoded data removed]",
            "text/plain": [
              "<Figure size 432x288 with 1 Axes>"
            ]
          },
          "metadata": {
            "tags": []
          }
        },
        {
          "output_type": "display_data",
          "data": {
            "image/png": "[encoded data removed]",
            "text/plain": [
              "<Figure size 432x288 with 2 Axes>"
            ]
          },
          "metadata": {
            "tags": []
          }
        },
        {
          "output_type": "stream",
          "text": [
            "6\n"
          ],
          "name": "stdout"
        },
        {
          "output_type": "display_data",
          "data": {
            "image/png": "[encoded data removed]",
            "text/plain": [
              "<Figure size 432x288 with 2 Axes>"
            ]
          },
          "metadata": {
            "tags": []
          }
        },
        {
          "output_type": "stream",
          "text": [
            "\n",
            "\n",
            "3.0\n"
          ],
          "name": "stdout"
        },
        {
          "output_type": "display_data",
          "data": {
            "image/png": "[encoded data removed]",
            "text/plain": [
              "<Figure size 432x288 with 1 Axes>"
            ]
          },
          "metadata": {
            "tags": []
          }
        },
        {
          "output_type": "display_data",
          "data": {
            "image/png": "[encoded data removed]",
            "text/plain": [
              "<Figure size 432x288 with 2 Axes>"
            ]
          },
          "metadata": {
            "tags": []
          }
        },
        {
          "output_type": "stream",
          "text": [
            "6\n"
          ],
          "name": "stdout"
        },
        {
          "output_type": "display_data",
          "data": {
            "image/png": "[encoded data removed]",
            "text/plain": [
              "<Figure size 432x288 with 2 Axes>"
            ]
          },
          "metadata": {
            "tags": []
          }
        },
        {
          "output_type": "stream",
          "text": [
            "\n",
            "\n",
            "7.0\n"
          ],
          "name": "stdout"
        },
        {
          "output_type": "display_data",
          "data": {
            "image/png": "[encoded data removed]",
            "text/plain": [
              "<Figure size 432x288 with 1 Axes>"
            ]
          },
          "metadata": {
            "tags": []
          }
        },
        {
          "output_type": "display_data",
          "data": {
            "image/png": "[encoded data removed]",
            "text/plain": [
              "<Figure size 432x288 with 2 Axes>"
            ]
          },
          "metadata": {
            "tags": []
          }
        },
        {
          "output_type": "stream",
          "text": [
            "6\n"
          ],
          "name": "stdout"
        },
        {
          "output_type": "display_data",
          "data": {
            "image/png": "[encoded data removed]",
            "text/plain": [
              "<Figure size 432x288 with 2 Axes>"
            ]
          },
          "metadata": {
            "tags": []
          }
        },
        {
          "output_type": "stream",
          "text": [
            "\n",
            "\n",
            "6.0\n"
          ],
          "name": "stdout"
        },
        {
          "output_type": "display_data",
          "data": {
            "image/png": "[encoded data removed]",
            "text/plain": [
              "<Figure size 432x288 with 1 Axes>"
            ]
          },
          "metadata": {
            "tags": []
          }
        },
        {
          "output_type": "display_data",
          "data": {
            "image/png": "[encoded data removed]",
            "text/plain": [
              "<Figure size 432x288 with 2 Axes>"
            ]
          },
          "metadata": {
            "tags": []
          }
        },
        {
          "output_type": "stream",
          "text": [
            "7\n"
          ],
          "name": "stdout"
        },
        {
          "output_type": "display_data",
          "data": {
            "image/png": "[encoded data removed]",
            "text/plain": [
              "<Figure size 432x288 with 2 Axes>"
            ]
          },
          "metadata": {
            "tags": []
          }
        },
        {
          "output_type": "stream",
          "text": [
            "\n",
            "\n",
            "2.0\n"
          ],
          "name": "stdout"
        },
        {
          "output_type": "display_data",
          "data": {
            "image/png": "[encoded data removed]",
            "text/plain": [
              "<Figure size 432x288 with 1 Axes>"
            ]
          },
          "metadata": {
            "tags": []
          }
        },
        {
          "output_type": "display_data",
          "data": {
            "image/png": "[encoded data removed]",
            "text/plain": [
              "<Figure size 432x288 with 2 Axes>"
            ]
          },
          "metadata": {
            "tags": []
          }
        },
        {
          "output_type": "stream",
          "text": [
            "6\n"
          ],
          "name": "stdout"
        },
        {
          "output_type": "display_data",
          "data": {
            "image/png": "[encoded data removed]",
            "text/plain": [
              "<Figure size 432x288 with 2 Axes>"
            ]
          },
          "metadata": {
            "tags": []
          }
        },
        {
          "output_type": "stream",
          "text": [
            "\n",
            "\n",
            "8.0\n"
          ],
          "name": "stdout"
        },
        {
          "output_type": "display_data",
          "data": {
            "image/png": "[encoded data removed]",
            "text/plain": [
              "<Figure size 432x288 with 1 Axes>"
            ]
          },
          "metadata": {
            "tags": []
          }
        },
        {
          "output_type": "display_data",
          "data": {
            "image/png": "[encoded data removed]",
            "text/plain": [
              "<Figure size 432x288 with 2 Axes>"
            ]
          },
          "metadata": {
            "tags": []
          }
        },
        {
          "output_type": "stream",
          "text": [
            "4\n"
          ],
          "name": "stdout"
        },
        {
          "output_type": "display_data",
          "data": {
            "image/png": "[encoded data removed]",
            "text/plain": [
              "<Figure size 432x288 with 2 Axes>"
            ]
          },
          "metadata": {
            "tags": []
          }
        },
        {
          "output_type": "stream",
          "text": [
            "\n",
            "\n",
            "7.0\n"
          ],
          "name": "stdout"
        },
        {
          "output_type": "display_data",
          "data": {
            "image/png": "[encoded data removed]",
            "text/plain": [
              "<Figure size 432x288 with 1 Axes>"
            ]
          },
          "metadata": {
            "tags": []
          }
        },
        {
          "output_type": "display_data",
          "data": {
            "image/png": "[encoded data removed]",
            "text/plain": [
              "<Figure size 432x288 with 2 Axes>"
            ]
          },
          "metadata": {
            "tags": []
          }
        },
        {
          "output_type": "stream",
          "text": [
            "6\n"
          ],
          "name": "stdout"
        },
        {
          "output_type": "display_data",
          "data": {
            "image/png": "[encoded data removed]",
            "text/plain": [
              "<Figure size 432x288 with 2 Axes>"
            ]
          },
          "metadata": {
            "tags": []
          }
        },
        {
          "output_type": "stream",
          "text": [
            "\n",
            "\n",
            "9.0\n"
          ],
          "name": "stdout"
        },
        {
          "output_type": "display_data",
          "data": {
            "image/png": "[encoded data removed]",
            "text/plain": [
              "<Figure size 432x288 with 1 Axes>"
            ]
          },
          "metadata": {
            "tags": []
          }
        },
        {
          "output_type": "display_data",
          "data": {
            "image/png": "[encoded data removed]",
            "text/plain": [
              "<Figure size 432x288 with 2 Axes>"
            ]
          },
          "metadata": {
            "tags": []
          }
        },
        {
          "output_type": "stream",
          "text": [
            "6\n"
          ],
          "name": "stdout"
        },
        {
          "output_type": "display_data",
          "data": {
            "image/png": "[encoded data removed]",
            "text/plain": [
              "<Figure size 432x288 with 2 Axes>"
            ]
          },
          "metadata": {
            "tags": []
          }
        },
        {
          "output_type": "stream",
          "text": [
            "\n",
            "\n",
            "6.0\n"
          ],
          "name": "stdout"
        },
        {
          "output_type": "display_data",
          "data": {
            "image/png": "[encoded data removed]",
            "text/plain": [
              "<Figure size 432x288 with 1 Axes>"
            ]
          },
          "metadata": {
            "tags": []
          }
        },
        {
          "output_type": "display_data",
          "data": {
            "image/png": "[encoded data removed]",
            "text/plain": [
              "<Figure size 432x288 with 2 Axes>"
            ]
          },
          "metadata": {
            "tags": []
          }
        },
        {
          "output_type": "stream",
          "text": [
            "7\n"
          ],
          "name": "stdout"
        },
        {
          "output_type": "display_data",
          "data": {
            "image/png": "[encoded data removed]",
            "text/plain": [
              "<Figure size 432x288 with 2 Axes>"
            ]
          },
          "metadata": {
            "tags": []
          }
        },
        {
          "output_type": "stream",
          "text": [
            "\n",
            "\n",
            "9.0\n"
          ],
          "name": "stdout"
        },
        {
          "output_type": "display_data",
          "data": {
            "image/png": "[encoded data removed]",
            "text/plain": [
              "<Figure size 432x288 with 1 Axes>"
            ]
          },
          "metadata": {
            "tags": []
          }
        },
        {
          "output_type": "display_data",
          "data": {
            "image/png": "[encoded data removed]",
            "text/plain": [
              "<Figure size 432x288 with 2 Axes>"
            ]
          },
          "metadata": {
            "tags": []
          }
        },
        {
          "output_type": "stream",
          "text": [
            "6\n"
          ],
          "name": "stdout"
        },
        {
          "output_type": "display_data",
          "data": {
            "image/png": "[encoded data removed]",
            "text/plain": [
              "<Figure size 432x288 with 2 Axes>"
            ]
          },
          "metadata": {
            "tags": []
          }
        },
        {
          "output_type": "stream",
          "text": [
            "\n",
            "\n",
            "7.0\n"
          ],
          "name": "stdout"
        },
        {
          "output_type": "display_data",
          "data": {
            "image/png": "[encoded data removed]",
            "text/plain": [
              "<Figure size 432x288 with 1 Axes>"
            ]
          },
          "metadata": {
            "tags": []
          }
        },
        {
          "output_type": "display_data",
          "data": {
            "image/png": "[encoded data removed]",
            "text/plain": [
              "<Figure size 432x288 with 2 Axes>"
            ]
          },
          "metadata": {
            "tags": []
          }
        },
        {
          "output_type": "stream",
          "text": [
            "6\n"
          ],
          "name": "stdout"
        },
        {
          "output_type": "display_data",
          "data": {
            "image/png": "[encoded data removed]",
            "text/plain": [
              "<Figure size 432x288 with 2 Axes>"
            ]
          },
          "metadata": {
            "tags": []
          }
        },
        {
          "output_type": "stream",
          "text": [
            "\n",
            "\n"
          ],
          "name": "stdout"
        }
      ]
    },
    {
      "cell_type": "markdown",
      "metadata": {
        "id": "-USD-rqCvcoM",
        "colab_type": "text"
      },
      "source": [
        "DOWNLOAD SAVED FILES"
      ]
    },
    {
      "cell_type": "code",
      "metadata": {
        "id": "LxyjQKCLvcUF",
        "colab_type": "code",
        "colab": {
          "base_uri": "https://localhost:8080/",
          "height": 34
        },
        "outputId": "56734b7f-f715-4587-a26c-56eac0b66f54"
      },
      "source": [
        "from google.colab import files\n",
        "\n",
        "print(n)\n",
        "\n",
        "for m in range(0, n):\n",
        "  #files.download('gmap{}.png'.format(m))\n",
        "  #files.download('hmap{}.png'.format(m))\n",
        "  #files.download('nhmap{}.png'.format(m))"
      ],
      "execution_count": 37,
      "outputs": [
        {
          "output_type": "stream",
          "text": [
            "12\n"
          ],
          "name": "stdout"
        }
      ]
    },
    {
      "cell_type": "code",
      "metadata": {
        "id": "5-K9zTQn5C7b",
        "colab_type": "code",
        "colab": {}
      },
      "source": [
        "map_model.save('MNISTmapmodel.h5')"
      ],
      "execution_count": 0,
      "outputs": []
    },
    {
      "cell_type": "markdown",
      "metadata": {
        "id": "niEEueHl0HQs",
        "colab_type": "text"
      },
      "source": [
        "EXAMINING HEATMAP FOR INCORRECT PREDICTION"
      ]
    },
    {
      "cell_type": "code",
      "metadata": {
        "id": "_07QXzq30NKe",
        "colab_type": "code",
        "colab": {
          "base_uri": "https://localhost:8080/",
          "height": 585
        },
        "outputId": "ae9d53f1-5574-4782-9be6-d9735069b32b"
      },
      "source": [
        "counter = 448\n",
        "falsepred = False\n",
        "\n",
        "while counter < 10000 and falsepred == False:\n",
        "  one_prediction = map_model.predict(test_images[counter:(counter + 1), :, :, :])\n",
        "  decision = np.argmax(one_prediction)\n",
        "  if decision != test_labels[counter]:\n",
        "    print('!!!{} not equal to {}, at place {}!!!'.format(decision, test_labels[counter], counter))\n",
        "    falsepred = True\n",
        "  counter += 1\n",
        "\n",
        "#print(one_prediction)\n",
        "\n",
        "X0 = test_images[(counter - 1):counter, :, :, :]\n",
        "X1 = forward_conv(X0, CW1, CB1)\n",
        "Relu1 = forward_relu(X1)\n",
        "X2 = forward_pooling(Relu1)\n",
        "X3 = forward_conv(X2, CW2, CB2)\n",
        "Relu3 = forward_relu(X3)\n",
        "X4 = forward_pooling(Relu3)\n",
        "X5 = forward_conv(X4, CW3, CB3)\n",
        "Relu5 = forward_relu(X5)\n",
        "X6 = np.reshape(Relu5, (576))\n",
        "X7 = forward_next(X6, DW1, DB1)\n",
        "Relu7 = forward_relu(X7)\n",
        "X8 = forward_next(Relu7, DW2, DB2)\n",
        "\n",
        "R = X8*0\n",
        "R[int(np.argmax(X8))] = one_prediction[0, int(np.argmax(X8))]#np.dot(X8, LK[k, :])\n",
        "\n",
        "R = relprop_next(X7, DW2, R)        #7.b\n",
        "R = relprop_next(X6, DW1, R)        #7.a\n",
        "R = np.reshape(R, (1, 3, 3, 64))    #6\n",
        "R = relprop_nextconv(X4, CW3, R)    #5.a\n",
        "R = relprop_pooling(Relu3, R)       #4\n",
        "R = relprop_nextconv(X2, CW2, R)    #3.a\n",
        "R = relprop_pooling(Relu1, R)       #2\n",
        "R = relprop_firstconv(X0, CW1, R)   #1.a\n",
        "\n",
        "R.shape = (28*28)\n",
        "r = np.max(R)\n",
        "\n",
        "R.shape = (28, 28)\n",
        "print(test_labels[counter - 1])\n",
        "plt.imshow(test_images[counter - 1, :, :, 0], cmap = 'gray')\n",
        "plt.axis('off')\n",
        "plt.savefig('gmap_false')\n",
        "plt.show()\n",
        "print(one_prediction)\n",
        "plt.imshow(R/r, cmap = 'Reds_r')\n",
        "plt.axis('off')\n",
        "plt.colorbar()#ticks = [])\n",
        "plt.savefig('hmap_false')\n",
        "plt.show()"
      ],
      "execution_count": 73,
      "outputs": [
        {
          "output_type": "stream",
          "text": [
            "!!!5 not equal to 3, at place 449!!!\n",
            "3\n"
          ],
          "name": "stdout"
        },
        {
          "output_type": "display_data",
          "data": {
            "image/png": "[encoded data removed]",
            "text/plain": [
              "<Figure size 432x288 with 1 Axes>"
            ]
          },
          "metadata": {
            "tags": []
          }
        },
        {
          "output_type": "stream",
          "text": [
            "[[-12.11444     -4.7581325   -7.431087    11.55553     -8.077193\n",
            "   11.6883745   -8.687086   -11.179525    -2.133932    -0.74100417]]\n"
          ],
          "name": "stdout"
        },
        {
          "output_type": "display_data",
          "data": {
            "image/png": "[encoded data removed]",
            "text/plain": [
              "<Figure size 432x288 with 2 Axes>"
            ]
          },
          "metadata": {
            "tags": []
          }
        }
      ]
    },
    {
      "cell_type": "code",
      "metadata": {
        "id": "DJ4j45iA7awQ",
        "colab_type": "code",
        "colab": {}
      },
      "source": [
        "from google.colab import files\n",
        "\n",
        "files.download('gmap_false.png')\n",
        "files.download('hmap_false.png')"
      ],
      "execution_count": 0,
      "outputs": []
    }
  ]
}