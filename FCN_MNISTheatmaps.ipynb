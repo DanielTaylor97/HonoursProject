{
  "nbformat": 4,
  "nbformat_minor": 0,
  "metadata": {
    "colab": {
      "name": "FCN_MNISTheatmaps.ipynb",
      "version": "0.3.2",
      "provenance": [],
      "collapsed_sections": [],
      "include_colab_link": true
    },
    "kernelspec": {
      "name": "python3",
      "display_name": "Python 3"
    }
  },
  "cells": [
    {
      "cell_type": "markdown",
      "metadata": {
        "id": "view-in-github",
        "colab_type": "text"
      },
      "source": [
        "<a href=\"https://colab.research.google.com/github/DanielTaylor97/HonoursProject/blob/master/FCN_MNISTheatmaps.ipynb\" target=\"_parent\"><img src=\"https://colab.research.google.com/assets/colab-badge.svg\" alt=\"Open In Colab\"/></a>"
      ]
    },
    {
      "cell_type": "markdown",
      "metadata": {
        "id": "j9ScYetOVxHM",
        "colab_type": "text"
      },
      "source": [
        "IMPORTS"
      ]
    },
    {
      "cell_type": "code",
      "metadata": {
        "id": "6N5Kp9kpVl5M",
        "colab_type": "code",
        "colab": {}
      },
      "source": [
        "from __future__ import division, absolute_import, print_function, unicode_literals\n",
        "import tensorflow as tf\n",
        "import tensorflow.contrib.graph_editor as ge\n",
        "from tensorflow.keras import datasets, layers, models\n",
        "import tensorflow.keras as keras\n",
        "import matplotlib.pyplot as plt\n",
        "import numpy as np\n",
        "import PIL, PIL.Image\n",
        "import os\n",
        "from scipy import signal"
      ],
      "execution_count": 0,
      "outputs": []
    },
    {
      "cell_type": "markdown",
      "metadata": {
        "id": "TSPm2nXhVzoI",
        "colab_type": "text"
      },
      "source": [
        "DOWNLOADING AND PREPARING THE MNIST DATASET"
      ]
    },
    {
      "cell_type": "code",
      "metadata": {
        "id": "KbwefNNxV4qU",
        "colab_type": "code",
        "colab": {}
      },
      "source": [
        "(train_images, train_labels), (test_images, test_labels) = datasets.mnist.load_data()\n",
        "\n",
        "#train_images = train_images.reshape(60000, 28, 28, 1)\n",
        "#test_images = test_images.reshape(10000, 28, 28, 1)\n",
        "##reshaping to 60000 and 10000 28*28*1 tensors (1 because b&w)\n",
        "\n",
        "#print(test_images.shape)\n",
        "\n",
        "train_images = train_images/225\n",
        "test_images = test_images/225\n",
        "#normalising pixel values"
      ],
      "execution_count": 0,
      "outputs": []
    },
    {
      "cell_type": "markdown",
      "metadata": {
        "id": "xfBazn6yXhMM",
        "colab_type": "text"
      },
      "source": [
        "FULLY-CONNECTED BASE STRUCTURE"
      ]
    },
    {
      "cell_type": "code",
      "metadata": {
        "id": "Yg__WfqlXl-5",
        "colab_type": "code",
        "colab": {
          "base_uri": "https://localhost:8080/",
          "height": 105
        },
        "outputId": "d86e7ae7-ab74-4562-9bf1-237cdc2f381d"
      },
      "source": [
        "model = models.Sequential()\n",
        "model.add(layers.Flatten(input_shape = (28, 28)))\n",
        "model.add(layers.Dense(300, activation = 'relu'))\n",
        "model.add(layers.Dense(100, activation = 'relu'))\n",
        "model.add(layers.Dense(10, activation = 'softmax'))"
      ],
      "execution_count": 3,
      "outputs": [
        {
          "output_type": "stream",
          "text": [
            "WARNING: Logging before flag parsing goes to stderr.\n",
            "W0823 14:58:09.795007 140400600430464 deprecation.py:506] From /usr/local/lib/python3.6/dist-packages/tensorflow/python/ops/init_ops.py:1251: calling VarianceScaling.__init__ (from tensorflow.python.ops.init_ops) with dtype is deprecated and will be removed in a future version.\n",
            "Instructions for updating:\n",
            "Call initializer instance with the dtype argument instead of passing it to the constructor\n"
          ],
          "name": "stderr"
        }
      ]
    },
    {
      "cell_type": "markdown",
      "metadata": {
        "id": "uSggeBv1biwT",
        "colab_type": "text"
      },
      "source": [
        "COMPILE THE MODEL"
      ]
    },
    {
      "cell_type": "code",
      "metadata": {
        "id": "u9hDGr2RblBz",
        "colab_type": "code",
        "colab": {}
      },
      "source": [
        "model.compile(optimizer = 'adam',\n",
        "              loss = 'sparse_categorical_crossentropy',\n",
        "             metrics = ['accuracy'])"
      ],
      "execution_count": 0,
      "outputs": []
    },
    {
      "cell_type": "markdown",
      "metadata": {
        "id": "JZ2hvdCAs4OP",
        "colab_type": "text"
      },
      "source": [
        "CONFIGURE CHECKPOINTS"
      ]
    },
    {
      "cell_type": "code",
      "metadata": {
        "id": "516i93BOs4qO",
        "colab_type": "code",
        "colab": {}
      },
      "source": [
        "checkpoint_path = \"training_1/cp.ckpt\"\n",
        "checkpoint_dir = os.path.dirname(checkpoint_path)\n",
        "\n",
        "# Create checkpoint callback\n",
        "cp_callback = tf.keras.callbacks.ModelCheckpoint(checkpoint_path,\n",
        "                                                 save_weights_only=True,\n",
        "                                                 verbose=1)"
      ],
      "execution_count": 0,
      "outputs": []
    },
    {
      "cell_type": "markdown",
      "metadata": {
        "id": "XhAGWPdhcQ0N",
        "colab_type": "text"
      },
      "source": [
        "TRAINING THE MODEL"
      ]
    },
    {
      "cell_type": "code",
      "metadata": {
        "id": "61FQI9khcSXA",
        "colab_type": "code",
        "colab": {
          "base_uri": "https://localhost:8080/",
          "height": 374
        },
        "outputId": "d3dea747-758d-4dbf-f157-e489aedac485"
      },
      "source": [
        "model.fit(train_images, train_labels, epochs = 5, callbacks = [cp_callback])"
      ],
      "execution_count": 6,
      "outputs": [
        {
          "output_type": "stream",
          "text": [
            "Epoch 1/5\n",
            "59552/60000 [============================>.] - ETA: 0s - loss: 0.2061 - acc: 0.9372\n",
            "Epoch 00001: saving model to training_1/cp.ckpt\n",
            "60000/60000 [==============================] - 5s 91us/sample - loss: 0.2057 - acc: 0.9373\n",
            "Epoch 2/5\n",
            "59488/60000 [============================>.] - ETA: 0s - loss: 0.0852 - acc: 0.9737\n",
            "Epoch 00002: saving model to training_1/cp.ckpt\n",
            "60000/60000 [==============================] - 6s 92us/sample - loss: 0.0851 - acc: 0.9737\n",
            "Epoch 3/5\n",
            "59584/60000 [============================>.] - ETA: 0s - loss: 0.0606 - acc: 0.9810\n",
            "Epoch 00003: saving model to training_1/cp.ckpt\n",
            "60000/60000 [==============================] - 5s 92us/sample - loss: 0.0604 - acc: 0.9810\n",
            "Epoch 4/5\n",
            "59808/60000 [============================>.] - ETA: 0s - loss: 0.0430 - acc: 0.9859\n",
            "Epoch 00004: saving model to training_1/cp.ckpt\n",
            "60000/60000 [==============================] - 6s 93us/sample - loss: 0.0430 - acc: 0.9859\n",
            "Epoch 5/5\n",
            "59872/60000 [============================>.] - ETA: 0s - loss: 0.0350 - acc: 0.9889\n",
            "Epoch 00005: saving model to training_1/cp.ckpt\n",
            "60000/60000 [==============================] - 5s 91us/sample - loss: 0.0350 - acc: 0.9889\n"
          ],
          "name": "stdout"
        },
        {
          "output_type": "execute_result",
          "data": {
            "text/plain": [
              "<tensorflow.python.keras.callbacks.History at 0x7fb149f03a20>"
            ]
          },
          "metadata": {
            "tags": []
          },
          "execution_count": 6
        }
      ]
    },
    {
      "cell_type": "markdown",
      "metadata": {
        "id": "fM1n3ZVmcl0p",
        "colab_type": "text"
      },
      "source": [
        "FIND ACCURACY OF MODEL"
      ]
    },
    {
      "cell_type": "markdown",
      "metadata": {
        "id": "XPm4WAAsd35F",
        "colab_type": "text"
      },
      "source": [
        "SAVE MODEL"
      ]
    },
    {
      "cell_type": "code",
      "metadata": {
        "id": "vKaksY8jd0vP",
        "colab_type": "code",
        "colab": {}
      },
      "source": [
        "model.save('MNISTmodelFC.h5')"
      ],
      "execution_count": 0,
      "outputs": []
    },
    {
      "cell_type": "markdown",
      "metadata": {
        "id": "yLnZizARd_GW",
        "colab_type": "text"
      },
      "source": [
        "HEATMAPS UTILS"
      ]
    },
    {
      "cell_type": "code",
      "metadata": {
        "id": "Rv7qAJrleFYD",
        "colab_type": "code",
        "colab": {}
      },
      "source": [
        "#import numpy,PIL,PIL.Image\n",
        "\n",
        "lowest = -1.0\n",
        "highest = 1.0\n",
        "\n",
        "# --------------------------------------\n",
        "# Sampling data\n",
        "# --------------------------------------\n",
        "\n",
        "def getMNISTsample(N=12,seed=None,path=''):\n",
        "\n",
        "  fx = '%s/t10k-images-idx3-ubyte'%path\n",
        "  ft = '%s/t10k-labels-idx1-ubyte'%path\n",
        "\n",
        "  X  = np.fromfile(open(fx),dtype='ubyte',count=16+784*10000)[16:].reshape([10000,784])\n",
        "  T  = np.fromfile(open(ft),dtype='ubyte',count=8+10000)[8:]\n",
        "  T  = (T[:,np.newaxis]  == np.arange(10))*1.0\n",
        "\n",
        "  if seed==None: seed=np.random\n",
        "  else: seed=np.random.mtrand.RandomState(seed)\n",
        "\n",
        "  R = seed.randint(0,len(X),[N])\n",
        "  X,T = X[R],T[R]\n",
        "\n",
        "  return X/255.0*(highest-lowest)+lowest,T\n",
        "\n",
        "# --------------------------------------\n",
        "# Color maps ([-1,1] -> [0,1]^3)\n",
        "# --------------------------------------\n",
        "\n",
        "def heatmap(x):\n",
        "\n",
        "  x = x[...,np.newaxis]\n",
        "\n",
        "  # positive relevance\n",
        "  hrp = 0.9 - np.clip(x-0.3,0,0.7)/0.7*0.5\n",
        "  hgp = 0.9 - np.clip(x-0.0,0,0.3)/0.3*0.5 - np.clip(x-0.3,0,0.7)/0.7*0.4\n",
        "  hbp = 0.9 - np.clip(x-0.0,0,0.3)/0.3*0.5 - np.clip(x-0.3,0,0.7)/0.7*0.4\n",
        "\n",
        "  # negative relevance\n",
        "  hrn = 0.9 - np.clip(-x-0.0,0,0.3)/0.3*0.5 - np.clip(-x-0.3,0,0.7)/0.7*0.4\n",
        "  hgn = 0.9 - np.clip(-x-0.0,0,0.3)/0.3*0.5 - np.clip(-x-0.3,0,0.7)/0.7*0.4\n",
        "  hbn = 0.9 - np.clip(-x-0.3,0,0.7)/0.7*0.5\n",
        "\n",
        "  r = hrp*(x>=0)+hrn*(x<0)\n",
        "  g = hgp*(x>=0)+hgn*(x<0)\n",
        "  b = hbp*(x>=0)+hbn*(x<0)\n",
        "\n",
        "  return np.concatenate([r,g,b],axis=-1)\n",
        "\n",
        "\n",
        "def graymap(x):\n",
        "\n",
        "  x = x[...,np.newaxis]\n",
        "  return np.concatenate([x,x,x],axis=-1)*0.5+0.5\n",
        "\n",
        "# --------------------------------------\n",
        "# Visualizing data\n",
        "# --------------------------------------\n",
        "\n",
        "def visualize(x,colormap,name):\n",
        "\n",
        "  N = len(x); assert(N<=16)\n",
        "\n",
        "  x = colormap(x/np.abs(x).max())\n",
        "\n",
        "  # Create a mosaic and upsample\n",
        "  x = x.reshape([1,N,28,28,3])\n",
        "  x = np.pad(x,((0,0),(0,0),(2,2),(2,2),(0,0)),'constant',constant_values=1)\n",
        "  x = x.transpose([0,2,1,3,4]).reshape([1*32,N*32,3])\n",
        "  x = np.kron(x,np.ones([2,2,1]))\n",
        "\n",
        "  PIL.Image.fromarray((x*255).astype('byte'),'RGB').save(name)"
      ],
      "execution_count": 0,
      "outputs": []
    },
    {
      "cell_type": "markdown",
      "metadata": {
        "id": "1YUQPJ7WeJkq",
        "colab_type": "text"
      },
      "source": [
        "HEATMAPS MODULES"
      ]
    },
    {
      "cell_type": "code",
      "metadata": {
        "id": "8Bz1AtcOeLbX",
        "colab_type": "code",
        "colab": {}
      },
      "source": [
        "#import numpy\n",
        "\n",
        "# -------------------------\n",
        "# Feed-forward network\n",
        "# -------------------------\n",
        "class Network:\n",
        "  \n",
        "  def __init__(self,layers):\n",
        "    self.layers = layers\n",
        "    \n",
        "  def forward(self,Z):\n",
        "    for l in self.layers: Z = l.forward(Z) #passes parameter Z forward throguh network -- Z recieved initially as the pixel array\n",
        "    return Z\n",
        "  \n",
        "  def gradprop(self,DZ):\n",
        "    for l in self.layers[::-1]: DZ = l.gradprop(DZ)\n",
        "    return DZ\n",
        "  \n",
        "  #THIS IS ADDED BY ME\n",
        "  def relprop(self, R):\n",
        "    for l in self.layers[::-1]:\n",
        "      R = l.relprop(R)\n",
        "    return R\n",
        "\n",
        "# -------------------------\n",
        "# ReLU activation layer\n",
        "# -------------------------\n",
        "class ReLU:\n",
        "  \n",
        "  def forward(self,X):\n",
        "    self.Z = X>0\n",
        "    return X*self.Z\n",
        "  \n",
        "  def gradprop(self,DY):\n",
        "    return DY*self.Z\n",
        "  \n",
        "  #THIS IS ADDED BY ME\n",
        "  def relprop(self, R):\n",
        "    return R\n",
        "\n",
        "# -------------------------\n",
        "# Fully-connected layer\n",
        "# -------------------------\n",
        "\n",
        "class FirstLinear:\n",
        "  \n",
        "  #def __init__(self, W, B):\n",
        "  #  self.W = W\n",
        "  #  self.B = B\n",
        "  \n",
        "  def __init__(self,name):\n",
        "    self.W = np.loadtxt(name+'-W.txt') #Fetches weights vector for a given layer\n",
        "    self.B = np.loadtxt(name+'-B.txt') #Fetches biases vector for a given layer\n",
        "    \n",
        "  def forward(self,X):\n",
        "    self.X = X\n",
        "    return np.dot(self.X,self.W)+self.B\n",
        "  \n",
        "  def gradprop(self,DY):\n",
        "    self.DY = DY\n",
        "    return np.dot(self.DY,self.W.T)\n",
        "  \n",
        "  #THIS IS ADDED BY ME\n",
        "  #Z^B RULE\n",
        "  def relprop(self, R):\n",
        "    W = self.W\n",
        "    V = np.maximum(0, W)\n",
        "    U = np.minimum(0, W)\n",
        "    X = self.X\n",
        "    L = self.X*0 + lowest  #vector of the same number -- lower bound\n",
        "    H = self.X*0 + highest #vector of the same number -- upper bound\n",
        "    \n",
        "    Z = np.dot(X, W) - np.dot(L, V) - np.dot(H, U) + 1e-9\n",
        "    S = R/Z\n",
        "    R = X*np.dot(S, W.T) - L*np.dot(S, V.T) - H*np.dot(S, U.T)\n",
        "    return R\n",
        "\n",
        "########\n",
        "\n",
        "class NextLinear:\n",
        "  \n",
        "  #def __init__(self, W, B):\n",
        "  #  self.W = W\n",
        "  #  self.B = B\n",
        "  \n",
        "  def __init__(self,name):\n",
        "    self.W = np.loadtxt(name+'-W.txt') #Fetches weights vector for a given layer\n",
        "    self.B = np.loadtxt(name+'-B.txt') #Fetches biases vector for a given layer\n",
        "\n",
        "  def forward(self,X):\n",
        "    self.X = X\n",
        "    return np.dot(self.X,self.W)+self.B\n",
        "\n",
        "  def gradprop(self,DY):\n",
        "    self.DY = DY\n",
        "    return np.dot(self.DY,self.W.T)\n",
        "  \n",
        "  #THIS IS ADDED BY ME\n",
        "  #Z^+ RULE\n",
        "  def relprop(self, R):\n",
        "    V = np.maximum(0, self.W)\n",
        "    Z = np.dot(self.X, V) + 1e-9 #we divide by this later -- no division by zero!\n",
        "    S = R/Z\n",
        "    C = np.dot(S, V.T)\n",
        "    R = self.X*C\n",
        "    return R\n",
        "  #This propagation method does not apply to the input layers, but to the layers following it\n",
        "\n",
        "# -------------------------\n",
        "# Sum-pooling layer\n",
        "# -------------------------\n",
        "class Pooling:\n",
        "\n",
        "  def forward(self,X):\n",
        "    self.X = X\n",
        "    self.Y = 0.5*(X[:,::2,::2,:]+X[:,::2,1::2,:]+X[:,1::2,::2,:]+X[:,1::2,::2,:])\n",
        "    return self.Y\n",
        "\n",
        "  def gradprop(self,DY):\n",
        "    self.DY = DY\n",
        "    DX = self.X*0\n",
        "    for i,j in [(0,0),(0,1),(1,0),(1,1)]: DX[:,i::2,j::2,:] += DY*0.5\n",
        "    return DX\n",
        "\n",
        "# -------------------------\n",
        "# Convolution layer\n",
        "# -------------------------\n",
        "class Convolution:\n",
        "\n",
        "  def __init__(self,name):\n",
        "    wshape = map(int,list(name.split(\"-\")[-1].split(\"x\")))\n",
        "    self.W = np.loadtxt(name+'-W.txt').reshape(wshape)\n",
        "    self.B = np.loadtxt(name+'-B.txt')\n",
        "\n",
        "  def forward(self,X):\n",
        "\n",
        "    self.X = X\n",
        "    mb,wx,hx,nx = X.shape\n",
        "    ww,hw,nx,ny = self.W.shape\n",
        "    wy,hy       = wx-ww+1,hx-hw+1\n",
        "\n",
        "    Y = np.zeros([mb,wy,hy,ny],dtype='float32')\n",
        "\n",
        "    for i in range(ww):\n",
        "      for j in range(hw):\n",
        "        Y += np.dot(X[:,i:i+wy,j:j+hy,:],self.W[i,j,:,:])\n",
        "\n",
        "    return Y+self.B\n",
        "\n",
        "  def gradprop(self,DY):\n",
        "\n",
        "    self.DY = DY\n",
        "    mb,wy,hy,ny = DY.shape\n",
        "    ww,hw,nx,ny = self.W.shape\n",
        "\n",
        "    DX = self.X*0\n",
        "\n",
        "    for i in range(ww):\n",
        "      for j in range(hw):\n",
        "        DX[:,i:i+wy,j:j+hy,:] += np.dot(DY,self.W[i,j,:,:].T)\n",
        "\n",
        "    return DX"
      ],
      "execution_count": 0,
      "outputs": []
    },
    {
      "cell_type": "code",
      "metadata": {
        "id": "s7VdUOo7X1ZG",
        "colab_type": "code",
        "colab": {}
      },
      "source": [
        "def forward_first(X, W, B):\n",
        "  return np.matmul(X, W) + B\n",
        "\n",
        "def relprop_first(X, W, R):\n",
        "  V = np.maximum(0, W)\n",
        "  U = np.minimum(0, W)\n",
        "  L = X*0 + lowest  #vector of the same number -- lower bound\n",
        "  H = X*0 + highest #vector of the same number -- upper bound\n",
        "  \n",
        "  Z = np.matmul(X, W) - np.matmul(L, V) - np.matmul(H, U) + 1e-9\n",
        "  S = R/Z\n",
        "  R = X*np.dot(S, W.T) - L*np.dot(S, V.T) - H*np.dot(S, U.T)\n",
        "  return R\n",
        "  \n",
        "def forward_next(X, W, B):\n",
        "  return np.matmul(X, W) + B\n",
        "\n",
        "def relprop_next(X, W, R):\n",
        "  V = np.maximum(0, W)\n",
        "  Z = np.matmul(X, V) + 1e-9 #we divide by this later -- no division by zero!\n",
        "  S = R/Z\n",
        "  C = np.dot(S, V.T)\n",
        "  R = X*C\n",
        "  return R\n",
        "  \n",
        "def forward_relu(X):\n",
        "  Z = X>0\n",
        "  return X*Z\n",
        "\n",
        "def relprop_relu(R):\n",
        "  return R\n",
        "  \n"
      ],
      "execution_count": 0,
      "outputs": []
    },
    {
      "cell_type": "markdown",
      "metadata": {
        "id": "MMBfYoLmEU6E",
        "colab_type": "text"
      },
      "source": [
        "IMPLEMENTING HEATMAPPINGS"
      ]
    },
    {
      "cell_type": "code",
      "metadata": {
        "id": "1K9FTGwjty9a",
        "colab_type": "code",
        "colab": {
          "base_uri": "https://localhost:8080/",
          "height": 34
        },
        "outputId": "d4f9f3b6-4d9f-43cc-b516-fc6c7961de3a"
      },
      "source": [
        "map_model = models.Sequential()\n",
        "map_model.add(layers.Flatten(input_shape = (28, 28)))\n",
        "map_model.add(layers.Dense(300, activation = 'relu'))\n",
        "map_model.add(layers.Dense(100, activation = 'relu'))\n",
        "map_model.add(layers.Dense(10))\n",
        "\n",
        "map_model.load_weights(checkpoint_path)\n",
        "#can also use model.get_weights(), map_model.setweights(...)"
      ],
      "execution_count": 10,
      "outputs": [
        {
          "output_type": "execute_result",
          "data": {
            "text/plain": [
              "<tensorflow.python.training.tracking.util.CheckpointLoadStatus at 0x7fb14412e780>"
            ]
          },
          "metadata": {
            "tags": []
          },
          "execution_count": 10
        }
      ]
    },
    {
      "cell_type": "code",
      "metadata": {
        "id": "K2ol6fGFwfx0",
        "colab_type": "code",
        "colab": {}
      },
      "source": [
        "map_model.save('MNISTmodelFC_map.h5')"
      ],
      "execution_count": 0,
      "outputs": []
    },
    {
      "cell_type": "code",
      "metadata": {
        "id": "y7DHO3PjEUh6",
        "colab_type": "code",
        "colab": {
          "base_uri": "https://localhost:8080/",
          "height": 663
        },
        "outputId": "4b240cc8-9cdf-43bf-f44a-b836b7a1e7f3"
      },
      "source": [
        "positions = np.random.randint(0, 10000, size = (12,))\n",
        "X, L = test_images[:12, :, :], test_labels[:12]\n",
        "\n",
        "n = 0\n",
        "\n",
        "images_to_map = np.empty(shape = (1, 28, 28))\n",
        "\n",
        "for i in range(0, 12):\n",
        "  X[i, :, :] = test_images[positions[i], :, :]\n",
        "  L[i] = test_labels[positions[i]]\n",
        "  #plt.imshow(X[i], cmap = 'gray')\n",
        "  #plt.axis('off')\n",
        "  one_prediction = map_model.predict(X[i:(i + 1), :, :])\n",
        "  decision = np.argmax(one_prediction)\n",
        "  if decision == L[i]:\n",
        "    print(decision)\n",
        "    print(one_prediction)\n",
        "    #plt.show()\n",
        "    n += 1\n",
        "    images_to_map = np.append(images_to_map, X[i:(i + 1), :, :], axis = 0)\n",
        "  else:\n",
        "    print('!!! decision {} not equal to value {} !!!'.format(decision, L[i]))\n",
        "\n",
        "images_to_map = np.delete(images_to_map, 0, 0)\n",
        "print('Shape of images array: {}'.format(images_to_map.shape))\n",
        "\n",
        "print('Total number of acceptable examples: {}'.format(n))"
      ],
      "execution_count": 11,
      "outputs": [
        {
          "output_type": "stream",
          "text": [
            "4\n",
            "[[-13.850538   -7.473386   -4.966731  -11.052797   19.021755   -6.293179\n",
            "   -7.5808487   0.9184332  -9.281849    0.8467531]]\n",
            "7\n",
            "[[ -6.132525    1.4654627   5.030587    4.0176206  -6.4107914  -4.5496526\n",
            "  -10.339362   13.61875    -4.002308    0.3409448]]\n",
            "8\n",
            "[[-1.5928313  -4.0510006  -2.395238   -0.23917943 -4.9456325  -2.1548235\n",
            "  -4.4699025  -2.6065392   9.754496    0.19668823]]\n",
            "2\n",
            "[[-1.742328   -1.0062978  10.039279    4.636064   -4.422592   -3.2301307\n",
            "  -5.7476525   0.48309472 -0.5067519  -4.3130555 ]]\n",
            "3\n",
            "[[-10.088497   -4.7282696  -3.0256808  14.116441   -8.918514    4.5859284\n",
            "  -14.382353   -6.9061966   0.7100564   5.613453 ]]\n",
            "0\n",
            "[[11.23454    -8.909072    2.238021   -5.687389   -5.343596   -3.4588335\n",
            "   0.172503   -1.9187597  -4.955027    0.40798232]]\n",
            "1\n",
            "[[-8.398996  15.051525  -1.2526895 -3.7965415  1.3196008 -4.632089\n",
            "  -2.8608377  2.7780392  1.1390665 -3.175701 ]]\n",
            "2\n",
            "[[ -6.3098316   3.467865   21.539724    2.5974228  -2.7984054  -8.211766\n",
            "   -5.8723845   4.557456   -0.8770653 -10.123876 ]]\n",
            "5\n",
            "[[ -9.923844   -4.9888487 -11.983656    2.6548946 -15.316952   18.564434\n",
            "   -3.2561116 -10.970853    3.1452143   1.1476797]]\n",
            "3\n",
            "[[-5.6522813 -1.0461681  5.590063  10.662371  -7.9687076 -0.5457236\n",
            "  -5.4409227  1.4627446  2.7935553 -5.932276 ]]\n",
            "1\n",
            "[[-7.693006   13.879711    2.2471795  -5.6092954   0.4383814  -5.7521663\n",
            "  -4.0136704   3.7818654  -0.36843225 -5.414986  ]]\n",
            "2\n",
            "[[-6.784429    2.5273972  15.781729    4.021914   -7.2208962  -6.080672\n",
            "  -7.6281414   7.205947   -0.46748272 -5.9627576 ]]\n",
            "Shape of images array: (12, 28, 28)\n",
            "Total number of acceptable examples: 12\n"
          ],
          "name": "stdout"
        }
      ]
    },
    {
      "cell_type": "code",
      "metadata": {
        "id": "e288hCdE2ms2",
        "colab_type": "code",
        "colab": {}
      },
      "source": [
        "W1 = np.asarray(map_model.get_weights()[0]) #784 lists of 300 weights --> array\n",
        "B1 = np.asarray(map_model.get_weights()[1]) #list of 300 biases --> array\n",
        "W2 = np.asarray(map_model.get_weights()[2]) #300 lists of 100 weights --> array\n",
        "B2 = np.asarray(map_model.get_weights()[3]) #list of 100 biases --> array\n",
        "W3 = np.asarray(map_model.get_weights()[4]) #100 lists of 10 weights --> array\n",
        "B3 = np.asarray(map_model.get_weights()[5]) #list of 10 biases --> array"
      ],
      "execution_count": 0,
      "outputs": []
    },
    {
      "cell_type": "code",
      "metadata": {
        "id": "_9z1wNF3Zv_K",
        "colab_type": "code",
        "colab": {
          "base_uri": "https://localhost:8080/",
          "height": 1000
        },
        "outputId": "c0309dfe-3cf1-4367-a454-075419ebc7bd"
      },
      "source": [
        "X0 = np.zeros(784)\n",
        "X1 = np.zeros(300)\n",
        "Relu1 = np.zeros(300)\n",
        "X2 = np.zeros(100)\n",
        "Relu2 = np.zeros(100)\n",
        "X3 = np.zeros(10)\n",
        "\n",
        "R = np.zeros(10)\n",
        "\n",
        "LK = np.zeros((n, 10))\n",
        "#print(L)\n",
        "for j in range(0, n):\n",
        "  LK[j, :] = signal.unit_impulse(10, L[j])\n",
        "#print(LK)\n",
        "\n",
        "for k in range(0, n):\n",
        "  X0 = images_to_map[k, :, :]\n",
        "  X0.shape = (784)\n",
        "  X1 = forward_first(X0, W1, B1)\n",
        "  Relu1 = forward_relu(X1)\n",
        "  X2 = forward_next(Relu1, W2, B2)\n",
        "  Relu2 = forward_relu(X2)\n",
        "  X3 = forward_next(Relu2, W3, B3)\n",
        "  #print(X3)\n",
        "  \n",
        "  R = X3*0 #Output layer relevances\n",
        "  R[int(np.argmax(X3))] = np.dot(X3, LK[k, :])\n",
        "  #R = X3\n",
        "  #R = relprop_relu(R)\n",
        "  R = relprop_next(X2, W3, R)\n",
        "  #R = relprop_relu(R)\n",
        "  R = relprop_next(X1, W2, R)\n",
        "  R = relprop_first(X0, W1, R)\n",
        "  \n",
        "  R.shape = (28*28)\n",
        "  r = np.max(R)\n",
        "  \n",
        "  R.shape = (28, 28)\n",
        "  print(L[k])\n",
        "  plt.imshow(images_to_map[k, :, :], cmap = 'gray')\n",
        "  plt.axis('off')\n",
        "  plt.savefig('gmap{}'.format(k))\n",
        "  plt.show()\n",
        "  plt.imshow(R/r, cmap = 'Reds_r')\n",
        "  plt.colorbar()\n",
        "  plt.axis('off')\n",
        "  plt.savefig('hmap{}'.format(k))\n",
        "  plt.show()\n",
        "  "
      ],
      "execution_count": 16,
      "outputs": [
        {
          "output_type": "stream",
          "text": [
            "4\n"
          ],
          "name": "stdout"
        },
        {
          "output_type": "display_data",
          "data": {
            "image/png": "[encoded data removed]",
            "text/plain": [
              "<Figure size 432x288 with 1 Axes>"
            ]
          },
          "metadata": {
            "tags": []
          }
        },
        {
          "output_type": "display_data",
          "data": {
            "image/png": "[encoded data removed]",
            "text/plain": [
              "<Figure size 432x288 with 2 Axes>"
            ]
          },
          "metadata": {
            "tags": []
          }
        },
        {
          "output_type": "stream",
          "text": [
            "7\n"
          ],
          "name": "stdout"
        },
        {
          "output_type": "display_data",
          "data": {
            "image/png": "[encoded data removed]",
            "text/plain": [
              "<Figure size 432x288 with 1 Axes>"
            ]
          },
          "metadata": {
            "tags": []
          }
        },
        {
          "output_type": "display_data",
          "data": {
            "image/png": "[encoded data removed]",
            "text/plain": [
              "<Figure size 432x288 with 2 Axes>"
            ]
          },
          "metadata": {
            "tags": []
          }
        },
        {
          "output_type": "stream",
          "text": [
            "8\n"
          ],
          "name": "stdout"
        },
        {
          "output_type": "display_data",
          "data": {
            "image/png": "[encoded data removed]",
            "text/plain": [
              "<Figure size 432x288 with 1 Axes>"
            ]
          },
          "metadata": {
            "tags": []
          }
        },
        {
          "output_type": "display_data",
          "data": {
            "image/png": "[encoded data removed]",
            "text/plain": [
              "<Figure size 432x288 with 2 Axes>"
            ]
          },
          "metadata": {
            "tags": []
          }
        },
        {
          "output_type": "stream",
          "text": [
            "2\n"
          ],
          "name": "stdout"
        },
        {
          "output_type": "display_data",
          "data": {
            "image/png": "[encoded data removed]",
            "text/plain": [
              "<Figure size 432x288 with 1 Axes>"
            ]
          },
          "metadata": {
            "tags": []
          }
        },
        {
          "output_type": "display_data",
          "data": {
            "image/png": "[encoded data removed]",
            "text/plain": [
              "<Figure size 432x288 with 2 Axes>"
            ]
          },
          "metadata": {
            "tags": []
          }
        },
        {
          "output_type": "stream",
          "text": [
            "3\n"
          ],
          "name": "stdout"
        },
        {
          "output_type": "display_data",
          "data": {
            "image/png": "[encoded data removed]",
            "text/plain": [
              "<Figure size 432x288 with 1 Axes>"
            ]
          },
          "metadata": {
            "tags": []
          }
        },
        {
          "output_type": "display_data",
          "data": {
            "image/png": "[encoded data removed]",
            "text/plain": [
              "<Figure size 432x288 with 2 Axes>"
            ]
          },
          "metadata": {
            "tags": []
          }
        },
        {
          "output_type": "stream",
          "text": [
            "0\n"
          ],
          "name": "stdout"
        },
        {
          "output_type": "display_data",
          "data": {
            "image/png": "[encoded data removed]",
            "text/plain": [
              "<Figure size 432x288 with 1 Axes>"
            ]
          },
          "metadata": {
            "tags": []
          }
        },
        {
          "output_type": "display_data",
          "data": {
            "image/png": "[encoded data removed]",
            "text/plain": [
              "<Figure size 432x288 with 2 Axes>"
            ]
          },
          "metadata": {
            "tags": []
          }
        },
        {
          "output_type": "stream",
          "text": [
            "1\n"
          ],
          "name": "stdout"
        },
        {
          "output_type": "display_data",
          "data": {
            "image/png": "[encoded data removed]",
            "text/plain": [
              "<Figure size 432x288 with 1 Axes>"
            ]
          },
          "metadata": {
            "tags": []
          }
        },
        {
          "output_type": "display_data",
          "data": {
            "image/png": "[encoded data removed]",
            "text/plain": [
              "<Figure size 432x288 with 2 Axes>"
            ]
          },
          "metadata": {
            "tags": []
          }
        },
        {
          "output_type": "stream",
          "text": [
            "2\n"
          ],
          "name": "stdout"
        },
        {
          "output_type": "display_data",
          "data": {
            "image/png": "[encoded data removed]",
            "text/plain": [
              "<Figure size 432x288 with 1 Axes>"
            ]
          },
          "metadata": {
            "tags": []
          }
        },
        {
          "output_type": "display_data",
          "data": {
            "image/png": "[encoded data removed]",
            "text/plain": [
              "<Figure size 432x288 with 2 Axes>"
            ]
          },
          "metadata": {
            "tags": []
          }
        },
        {
          "output_type": "stream",
          "text": [
            "5\n"
          ],
          "name": "stdout"
        },
        {
          "output_type": "display_data",
          "data": {
            "image/png": "[encoded data removed]",
            "text/plain": [
              "<Figure size 432x288 with 1 Axes>"
            ]
          },
          "metadata": {
            "tags": []
          }
        },
        {
          "output_type": "display_data",
          "data": {
            "image/png": "[encoded data removed]",
            "text/plain": [
              "<Figure size 432x288 with 2 Axes>"
            ]
          },
          "metadata": {
            "tags": []
          }
        },
        {
          "output_type": "stream",
          "text": [
            "3\n"
          ],
          "name": "stdout"
        },
        {
          "output_type": "display_data",
          "data": {
            "image/png": "[encoded data removed]",
            "text/plain": [
              "<Figure size 432x288 with 1 Axes>"
            ]
          },
          "metadata": {
            "tags": []
          }
        },
        {
          "output_type": "display_data",
          "data": {
            "image/png": "[encoded data removed]",
            "text/plain": [
              "<Figure size 432x288 with 2 Axes>"
            ]
          },
          "metadata": {
            "tags": []
          }
        },
        {
          "output_type": "stream",
          "text": [
            "1\n"
          ],
          "name": "stdout"
        },
        {
          "output_type": "display_data",
          "data": {
            "image/png": "[encoded data removed]",
            "text/plain": [
              "<Figure size 432x288 with 1 Axes>"
            ]
          },
          "metadata": {
            "tags": []
          }
        },
        {
          "output_type": "display_data",
          "data": {
            "image/png": "[encoded data removed]",
            "text/plain": [
              "<Figure size 432x288 with 2 Axes>"
            ]
          },
          "metadata": {
            "tags": []
          }
        },
        {
          "output_type": "stream",
          "text": [
            "2\n"
          ],
          "name": "stdout"
        },
        {
          "output_type": "display_data",
          "data": {
            "image/png": "[encoded data removed]",
            "text/plain": [
              "<Figure size 432x288 with 1 Axes>"
            ]
          },
          "metadata": {
            "tags": []
          }
        },
        {
          "output_type": "display_data",
          "data": {
            "image/png": "[encoded data removed]",
            "text/plain": [
              "<Figure size 432x288 with 2 Axes>"
            ]
          },
          "metadata": {
            "tags": []
          }
        }
      ]
    },
    {
      "cell_type": "code",
      "metadata": {
        "id": "L3cZN79p_WPi",
        "colab_type": "code",
        "colab": {}
      },
      "source": [
        "map_model.save('MNISTmapmodelFC.h5')"
      ],
      "execution_count": 0,
      "outputs": []
    },
    {
      "cell_type": "code",
      "metadata": {
        "id": "EuT52UY9S3PW",
        "colab_type": "code",
        "colab": {
          "base_uri": "https://localhost:8080/",
          "height": 289
        },
        "outputId": "28b1808b-386f-4ccb-f7ff-822f07ff7d3e"
      },
      "source": [
        "map_model.summary()"
      ],
      "execution_count": 18,
      "outputs": [
        {
          "output_type": "stream",
          "text": [
            "Model: \"sequential_1\"\n",
            "_________________________________________________________________\n",
            "Layer (type)                 Output Shape              Param #   \n",
            "=================================================================\n",
            "flatten_1 (Flatten)          (None, 784)               0         \n",
            "_________________________________________________________________\n",
            "dense_3 (Dense)              (None, 300)               235500    \n",
            "_________________________________________________________________\n",
            "dense_4 (Dense)              (None, 100)               30100     \n",
            "_________________________________________________________________\n",
            "dense_5 (Dense)              (None, 10)                1010      \n",
            "=================================================================\n",
            "Total params: 266,610\n",
            "Trainable params: 266,610\n",
            "Non-trainable params: 0\n",
            "_________________________________________________________________\n"
          ],
          "name": "stdout"
        }
      ]
    },
    {
      "cell_type": "code",
      "metadata": {
        "id": "g9ISqJ0eAZM_",
        "colab_type": "code",
        "colab": {
          "base_uri": "https://localhost:8080/",
          "height": 34
        },
        "outputId": "60ace0a6-d898-429c-a947-7b156452b3be"
      },
      "source": [
        "from google.colab import files\n",
        "\n",
        "print(n)\n",
        "\n",
        "for m in range(0, n):\n",
        "  #files.download('gmap{}.png'.format(m))\n",
        "  #files.download('hmap{}.png'.format(m))"
      ],
      "execution_count": 17,
      "outputs": [
        {
          "output_type": "stream",
          "text": [
            "12\n"
          ],
          "name": "stdout"
        }
      ]
    }
  ]
}