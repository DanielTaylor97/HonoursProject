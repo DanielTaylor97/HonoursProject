{
  "nbformat": 4,
  "nbformat_minor": 0,
  "metadata": {
    "colab": {
      "name": "projectCNN.ipynb",
      "version": "0.3.2",
      "provenance": [],
      "collapsed_sections": [],
      "include_colab_link": true
    },
    "kernelspec": {
      "name": "python3",
      "display_name": "Python 3"
    }
  },
  "cells": [
    {
      "cell_type": "markdown",
      "metadata": {
        "id": "view-in-github",
        "colab_type": "text"
      },
      "source": [
        "<a href=\"https://colab.research.google.com/github/DanielTaylor97/HonoursProject/blob/master/projectCNN.ipynb\" target=\"_parent\"><img src=\"https://colab.research.google.com/assets/colab-badge.svg\" alt=\"Open In Colab\"/></a>"
      ]
    },
    {
      "cell_type": "markdown",
      "metadata": {
        "id": "VzgLC58nW_o4",
        "colab_type": "text"
      },
      "source": [
        "# Honours Project CNN\n",
        "## Probably only for use in the actual heatmaps -- the network will be trained on my desktop :)"
      ]
    },
    {
      "cell_type": "markdown",
      "metadata": {
        "id": "5zx-taDqWn7e",
        "colab_type": "text"
      },
      "source": [
        "### IMPORTS"
      ]
    },
    {
      "cell_type": "code",
      "metadata": {
        "id": "S-ZO8bWiCneM",
        "colab_type": "code",
        "colab": {}
      },
      "source": [
        "from __future__ import division, absolute_import, print_function, unicode_literals\n",
        "import tensorflow as tf\n",
        "from tensorflow.keras import datasets, layers, models\n",
        "import tensorflow.keras as keras\n",
        "import matplotlib.pyplot as plt\n",
        "import numpy as np\n",
        "import PIL, PIL.Image\n",
        "from scipy import signal\n",
        "import time\n",
        "\n",
        "from sklearn.model_selection import train_test_split"
      ],
      "execution_count": 0,
      "outputs": []
    },
    {
      "cell_type": "markdown",
      "metadata": {
        "id": "0B9AmvvCWsOi",
        "colab_type": "text"
      },
      "source": [
        "### MORE IMPORTS, AND ACCESSING DRIVE"
      ]
    },
    {
      "cell_type": "code",
      "metadata": {
        "id": "_y2L7ySSSPtZ",
        "colab_type": "code",
        "colab": {}
      },
      "source": [
        "import pandas as pd\n",
        "\n",
        "#!pip install -U -q PyDrive\n",
        "from pydrive.auth import GoogleAuth\n",
        "from pydrive.drive import GoogleDrive\n",
        "from google.colab import auth, files, drive\n",
        "from oauth2client.client import GoogleCredentials\n",
        "# Authenticate and create the PyDrive client.\n",
        "auth.authenticate_user()\n",
        "gauth = GoogleAuth()\n",
        "gauth.credentials = GoogleCredentials.get_application_default()\n",
        "GDrive = GoogleDrive(gauth)"
      ],
      "execution_count": 0,
      "outputs": []
    },
    {
      "cell_type": "markdown",
      "metadata": {
        "id": "K1Be6idIGHQJ",
        "colab_type": "text"
      },
      "source": [
        "### READ .NPY GM FILE FROM DRIVE"
      ]
    },
    {
      "cell_type": "code",
      "metadata": {
        "id": "PfVMENWEKonO",
        "colab_type": "code",
        "colab": {}
      },
      "source": [
        "#id = '1bFXPJlSsIKomQ4yUqFkcfS7xzEp07RBH'\n",
        "#downloaded = GDrive.CreateFile({'id':id}) \n",
        "#downloaded.GetContentFile('even_wm.npy')\n",
        "#wm = np.load('even_wm.npy')\n",
        "\n",
        "id = '1QQj4cK7fDvhctRPlJ2lKc9EdHSF9cRQn'\n",
        "downloaded = GDrive.CreateFile({'id':id}) \n",
        "downloaded.GetContentFile('even_gm_images.npy')\n",
        "gm = np.load('even_gm_images.npy')"
      ],
      "execution_count": 0,
      "outputs": []
    },
    {
      "cell_type": "markdown",
      "metadata": {
        "id": "gM9g1YExW45Z",
        "colab_type": "text"
      },
      "source": [
        "### READ .NPY AGES FILES FROM DRIVE"
      ]
    },
    {
      "cell_type": "code",
      "metadata": {
        "id": "Xox_MQVoS7u7",
        "colab_type": "code",
        "outputId": "786033db-d073-457e-fbc9-914446ec0daf",
        "colab": {
          "base_uri": "https://localhost:8080/",
          "height": 850
        }
      },
      "source": [
        "#id = '1iBQSb_dClm-mJ4lV70da4HPgJK9RuNPw'\n",
        "#downloaded = GDrive.CreateFile({'id':id}) \n",
        "#downloaded.GetContentFile('even_ages.npy')  \n",
        "#ages = np.load('even_ages.npy')\n",
        "\n",
        "id = '1LyWSo2X7YrjbHCFCjvg5ghtwj5XSsVM-'\n",
        "downloaded = GDrive.CreateFile({'id':id}) \n",
        "downloaded.GetContentFile('even_gm_ages.npy')  \n",
        "ages = np.load('even_gm_ages.npy')\n",
        "\n",
        "ages"
      ],
      "execution_count": 4,
      "outputs": [
        {
          "output_type": "execute_result",
          "data": {
            "text/plain": [
              "array([60.    , 59.51  , 19.    , 21.    , 28.    , 21.    , 62.    ,\n",
              "       81.    , 37.    , 32.42  , 49.02  , 24.34  , 40.04  , 24.6352,\n",
              "       51.    , 19.    , 18.    , 17.    , 85.74  , 45.39  , 19.    ,\n",
              "       66.28  , 37.    , 33.92  , 43.    , 21.    , 24.    , 49.4   ,\n",
              "       59.15  , 39.    , 31.    , 34.    , 18.    , 22.    , 25.    ,\n",
              "       21.    , 25.    , 22.    , 30.    , 83.46  , 29.    , 23.    ,\n",
              "       19.    , 54.19  , 54.74  , 82.    , 50.    , 20.    , 24.    ,\n",
              "       31.81  , 55.09  , 25.93  , 24.    , 30.7   , 19.    , 69.    ,\n",
              "       69.69  , 45.    , 27.    , 19.    , 70.56  , 21.    , 63.1   ,\n",
              "       19.    , 36.    , 22.    , 37.    , 31.    , 25.    , 21.    ,\n",
              "       30.    , 35.    , 28.    , 39.    , 18.    , 20.    , 64.    ,\n",
              "       34.24  , 24.    , 21.    , 57.    , 22.    , 72.09  , 23.    ,\n",
              "       77.    , 58.    , 21.    , 26.88  , 22.    , 26.    , 90.    ,\n",
              "       21.    , 19.    , 25.    , 26.    , 41.9   , 27.    , 74.    ,\n",
              "       21.    , 44.    , 21.    , 43.    , 21.    , 31.    , 20.    ,\n",
              "       62.74  , 25.    , 26.    , 20.    , 23.    , 58.    , 22.    ,\n",
              "       45.    , 23.    , 20.    , 19.    , 22.    , 47.    , 31.15  ,\n",
              "       31.    , 50.    , 30.69  , 23.    , 21.    , 69.29  , 25.    ,\n",
              "       67.    , 35.    , 23.    , 38.    , 29.78  , 27.    , 20.    ,\n",
              "       64.1   , 29.    , 19.    , 62.46  , 32.    , 50.52  , 23.    ,\n",
              "       21.    , 45.    , 28.    , 38.    , 26.    , 33.    , 22.    ,\n",
              "       52.5   , 25.    , 23.    , 52.    , 63.4   , 58.    , 21.    ,\n",
              "       21.02  , 27.    , 89.    , 21.    , 23.    , 23.    , 48.    ,\n",
              "       49.    , 51.    , 34.    , 73.    , 19.    , 26.    , 29.    ,\n",
              "       45.26  , 43.82  , 80.8   , 57.7   , 76.78  , 74.    , 54.    ,\n",
              "       46.    , 55.    , 55.    , 42.99  , 61.34  , 46.    , 56.    ,\n",
              "       58.38  , 73.02  , 64.19  , 60.84  , 48.    , 55.    , 48.    ,\n",
              "       43.    , 72.35  , 72.    , 41.    , 49.    , 70.11  , 50.    ,\n",
              "       48.    , 48.68  , 67.33  , 49.    , 63.66  , 50.    , 71.    ,\n",
              "       54.    , 42.    , 71.    , 71.    , 44.    , 55.    , 58.57  ,\n",
              "       42.    , 53.    , 65.    , 70.25  , 63.68  , 46.    , 40.    ,\n",
              "       49.    , 51.    , 86.    , 55.17  , 71.    , 46.    , 43.    ,\n",
              "       57.    , 56.96  , 55.    , 53.    , 44.    , 52.    , 61.07  ,\n",
              "       44.    , 70.95  , 40.    , 45.    , 54.    , 44.    , 64.66  ,\n",
              "       68.12  , 47.72  , 71.    , 55.    , 47.    , 74.    , 59.    ,\n",
              "       55.    , 78.07  , 43.    , 68.48  , 43.    , 60.87  , 60.4   ,\n",
              "       52.    , 50.    , 56.    , 64.65  , 86.32  , 90.    , 70.11  ,\n",
              "       71.    , 82.    , 78.58  , 85.    , 81.    , 70.14  , 82.19  ,\n",
              "       73.    , 70.14  , 74.    , 73.    , 83.    , 80.    , 73.    ,\n",
              "       88.    , 81.    , 70.52  , 79.    , 74.01  , 72.01  , 72.83  ,\n",
              "       72.    , 74.    , 85.    , 73.54  , 78.    , 70.    , 72.88  ,\n",
              "       86.    , 70.    , 80.84  , 71.21  , 78.    , 78.    , 74.99  ,\n",
              "       70.33  , 76.    , 70.84  , 75.94  , 75.08  , 81.    , 72.59  ,\n",
              "       71.66  , 72.33  , 77.    , 73.54  , 90.    , 70.71  , 71.    ,\n",
              "       72.15  , 73.18  , 80.    , 84.    , 88.    , 76.52  , 84.    ,\n",
              "       71.    , 80.17  , 83.56  , 80.    , 75.97  , 73.6   , 70.5   ,\n",
              "       75.82  , 81.94  , 74.01  , 81.    , 79.41  , 86.2   , 70.    ,\n",
              "       77.    , 72.    , 75.    , 78.2   , 75.83  , 75.63  , 73.    ,\n",
              "       75.    , 73.56  , 74.    , 70.    , 75.    , 74.    ])"
            ]
          },
          "metadata": {
            "tags": []
          },
          "execution_count": 4
        }
      ]
    },
    {
      "cell_type": "markdown",
      "metadata": {
        "id": "FaUAMR24eYVJ",
        "colab_type": "text"
      },
      "source": [
        "### BATCH THE AGE DATA"
      ]
    },
    {
      "cell_type": "code",
      "metadata": {
        "id": "KhuUfLAbeX-t",
        "colab_type": "code",
        "outputId": "7ff41230-07cc-4aad-fa93-6a8224b457cf",
        "colab": {
          "base_uri": "https://localhost:8080/",
          "height": 374
        }
      },
      "source": [
        "ages = np.floor((ages - 10)/30)\n",
        "#ages.shape #(342,)\n",
        "ages\n",
        "#wm.shape #(342, 100, 124, 104, 1)"
      ],
      "execution_count": 5,
      "outputs": [
        {
          "output_type": "execute_result",
          "data": {
            "text/plain": [
              "array([1., 1., 0., 0., 0., 0., 1., 2., 0., 0., 1., 0., 1., 0., 1., 0., 0.,\n",
              "       0., 2., 1., 0., 1., 0., 0., 1., 0., 0., 1., 1., 0., 0., 0., 0., 0.,\n",
              "       0., 0., 0., 0., 0., 2., 0., 0., 0., 1., 1., 2., 1., 0., 0., 0., 1.,\n",
              "       0., 0., 0., 0., 1., 1., 1., 0., 0., 2., 0., 1., 0., 0., 0., 0., 0.,\n",
              "       0., 0., 0., 0., 0., 0., 0., 0., 1., 0., 0., 0., 1., 0., 2., 0., 2.,\n",
              "       1., 0., 0., 0., 0., 2., 0., 0., 0., 0., 1., 0., 2., 0., 1., 0., 1.,\n",
              "       0., 0., 0., 1., 0., 0., 0., 0., 1., 0., 1., 0., 0., 0., 0., 1., 0.,\n",
              "       0., 1., 0., 0., 0., 1., 0., 1., 0., 0., 0., 0., 0., 0., 1., 0., 0.,\n",
              "       1., 0., 1., 0., 0., 1., 0., 0., 0., 0., 0., 1., 0., 0., 1., 1., 1.,\n",
              "       0., 0., 0., 2., 0., 0., 0., 1., 1., 1., 0., 2., 0., 0., 0., 1., 1.,\n",
              "       2., 1., 2., 2., 1., 1., 1., 1., 1., 1., 1., 1., 1., 2., 1., 1., 1.,\n",
              "       1., 1., 1., 2., 2., 1., 1., 2., 1., 1., 1., 1., 1., 1., 1., 2., 1.,\n",
              "       1., 2., 2., 1., 1., 1., 1., 1., 1., 2., 1., 1., 1., 1., 1., 2., 1.,\n",
              "       2., 1., 1., 1., 1., 1., 1., 1., 1., 1., 1., 2., 1., 1., 1., 1., 1.,\n",
              "       1., 1., 2., 1., 1., 2., 1., 1., 2., 1., 1., 1., 1., 1., 1., 1., 1.,\n",
              "       1., 2., 2., 2., 2., 2., 2., 2., 2., 2., 2., 2., 2., 2., 2., 2., 2.,\n",
              "       2., 2., 2., 2., 2., 2., 2., 2., 2., 2., 2., 2., 2., 2., 2., 2., 2.,\n",
              "       2., 2., 2., 2., 2., 2., 2., 2., 2., 2., 2., 2., 2., 2., 2., 2., 2.,\n",
              "       2., 2., 2., 2., 2., 2., 2., 2., 2., 2., 2., 2., 2., 2., 2., 2., 2.,\n",
              "       2., 2., 2., 2., 2., 2., 2., 2., 2., 2., 2., 2., 2., 2., 2., 2., 2.,\n",
              "       2., 2.])"
            ]
          },
          "metadata": {
            "tags": []
          },
          "execution_count": 5
        }
      ]
    },
    {
      "cell_type": "markdown",
      "metadata": {
        "id": "WPFDabqFbhLu",
        "colab_type": "text"
      },
      "source": [
        "### MODEL DEFINITION"
      ]
    },
    {
      "cell_type": "code",
      "metadata": {
        "id": "adCS-dwjW9fa",
        "colab_type": "code",
        "colab": {}
      },
      "source": [
        "def create_model():\n",
        "  model = tf.keras.models.Sequential([\n",
        "      layers.Conv3D(8, (3, 3, 3), activation = 'relu', input_shape = (100, 124, 104, 1), name = 'Conv3d_1a'),\n",
        "      layers.Conv3D(8, (3, 3, 3), name = 'Conv3d_1b'),\n",
        "      layers.BatchNormalization(name = 'BatchNorm_1'),\n",
        "      layers.ReLU(name = 'Relu_1'),\n",
        "      layers.AveragePooling3D((2, 2, 2), name = 'AvePool_1'),\n",
        "      layers.Conv3D(16, (3, 3, 3), activation = 'relu', name = 'Conv3d_2a'),\n",
        "      layers.Conv3D(16, (3, 3, 3), name = 'Conv3d_2b'),\n",
        "      layers.BatchNormalization(name = 'BatchNorm_2'),\n",
        "      layers.ReLU(name = 'Relu_2'),\n",
        "      layers.AveragePooling3D((2, 2, 2), name = 'AvePool_2'),\n",
        "      layers.Conv3D(32, (3, 3, 3), activation = 'relu', name = 'Conv3d_3a'),\n",
        "      layers.Conv3D(32, (3, 3, 3), name = 'Conv3d_3b'),\n",
        "      layers.BatchNormalization(name = 'BatchNorm_3'),\n",
        "      layers.ReLU(name = 'Relu_3'),\n",
        "      layers.AveragePooling3D((2, 2, 2), name = 'AvePool_3'),\n",
        "      layers.Conv3D(64, (3, 3, 3), activation = 'relu', name = 'Conv3d_4a'),\n",
        "      layers.Conv3D(64, (3, 3, 3), name = 'Conv3d_4b'),\n",
        "      layers.BatchNormalization(name = 'BatchNorm_4'),\n",
        "      layers.ReLU(name = 'Relu_4'),\n",
        "      layers.AveragePooling3D((2, 2, 2), name = 'AvePool_4'),\n",
        "      #layers.Conv3D(128, (3, 3, 3), activation = 'relu', name = 'Conv3d_5a'),\n",
        "      #layers.Conv3D(128, (3, 3, 3), name = 'Conv3d_5b'),\n",
        "      #layers.BatchNormalization(name = 'BatchNorm_5'),\n",
        "      #layers.ReLU(name = 'Relu_5'),\n",
        "      #layers.AveragePooling3D((2, 2, 2), name = 'AvePool_5'),\n",
        "      layers.Flatten(name = 'flatten'),\n",
        "      layers.Dense(32, activation = 'relu', name = 'dense_1'),\n",
        "      layers.Dense(3, activation = 'softmax', name = 'dense_2')\n",
        "  ])\n",
        "  \n",
        "  model.compile(optimizer = 'adam',\n",
        "                loss = 'sparse_categorical_crossentropy',\n",
        "                metrics = ['accuracy'])\n",
        "  #model.compile(optimizer='rmsprop',\n",
        "  #              loss='MAE',\n",
        "  #              metrics=['MAE'])\n",
        "      \n",
        "  return model"
      ],
      "execution_count": 0,
      "outputs": []
    },
    {
      "cell_type": "markdown",
      "metadata": {
        "id": "1EuoC0a6zqE-",
        "colab_type": "text"
      },
      "source": [
        "### LOAD MODEL FROM DRIVE"
      ]
    },
    {
      "cell_type": "code",
      "metadata": {
        "id": "NGOjnZ6azwSB",
        "colab_type": "code",
        "colab": {}
      },
      "source": [
        "#id = '1hSl43yCtXX5bT-yHVEAetReyhdaaS6bZ'\n",
        "#downloaded = GDrive.CreateFile({'id':id}) \n",
        "#downloaded.GetContentFile('model_1.h5')  \n",
        "#model_1 = models.load_model('model_1.h5')\n",
        "\n",
        "id = '1ytvpOKi0felWUMiB5BXhxGqblpJSKy2g'\n",
        "downloaded = GDrive.CreateFile({'id':id}) \n",
        "downloaded.GetContentFile('model_2.h5')  \n",
        "model_1 = models.load_model('model_2.h5')"
      ],
      "execution_count": 0,
      "outputs": []
    },
    {
      "cell_type": "code",
      "metadata": {
        "id": "yu0nhyqkiLOB",
        "colab_type": "code",
        "outputId": "61ebf30f-5df9-43cb-a3c5-a6b2cfb1eedd",
        "colab": {
          "base_uri": "https://localhost:8080/",
          "height": 935
        }
      },
      "source": [
        "#model_1 = create_model()\n",
        "#model_1 = models.load_model('model_1.h5')\n",
        "model_1.summary()"
      ],
      "execution_count": 7,
      "outputs": [
        {
          "output_type": "stream",
          "text": [
            "Model: \"sequential\"\n",
            "_________________________________________________________________\n",
            "Layer (type)                 Output Shape              Param #   \n",
            "=================================================================\n",
            "Conv3d_1a (Conv3D)           (None, 98, 122, 102, 8)   224       \n",
            "_________________________________________________________________\n",
            "Conv3d_1b (Conv3D)           (None, 96, 120, 100, 8)   1736      \n",
            "_________________________________________________________________\n",
            "BatchNorm_1 (BatchNormalizat (None, 96, 120, 100, 8)   32        \n",
            "_________________________________________________________________\n",
            "Relu_1 (ReLU)                (None, 96, 120, 100, 8)   0         \n",
            "_________________________________________________________________\n",
            "AvePool_1 (AveragePooling3D) (None, 48, 60, 50, 8)     0         \n",
            "_________________________________________________________________\n",
            "Conv3d_2a (Conv3D)           (None, 46, 58, 48, 16)    3472      \n",
            "_________________________________________________________________\n",
            "Conv3d_2b (Conv3D)           (None, 44, 56, 46, 16)    6928      \n",
            "_________________________________________________________________\n",
            "BatchNorm_2 (BatchNormalizat (None, 44, 56, 46, 16)    64        \n",
            "_________________________________________________________________\n",
            "Relu_2 (ReLU)                (None, 44, 56, 46, 16)    0         \n",
            "_________________________________________________________________\n",
            "AvePool_2 (AveragePooling3D) (None, 22, 28, 23, 16)    0         \n",
            "_________________________________________________________________\n",
            "Conv3d_3a (Conv3D)           (None, 20, 26, 21, 32)    13856     \n",
            "_________________________________________________________________\n",
            "Conv3d_3b (Conv3D)           (None, 18, 24, 19, 32)    27680     \n",
            "_________________________________________________________________\n",
            "BatchNorm_3 (BatchNormalizat (None, 18, 24, 19, 32)    128       \n",
            "_________________________________________________________________\n",
            "Relu_3 (ReLU)                (None, 18, 24, 19, 32)    0         \n",
            "_________________________________________________________________\n",
            "AvePool_3 (AveragePooling3D) (None, 9, 12, 9, 32)      0         \n",
            "_________________________________________________________________\n",
            "Conv3d_4a (Conv3D)           (None, 7, 10, 7, 64)      55360     \n",
            "_________________________________________________________________\n",
            "Conv3d_4b (Conv3D)           (None, 5, 8, 5, 64)       110656    \n",
            "_________________________________________________________________\n",
            "BatchNorm_4 (BatchNormalizat (None, 5, 8, 5, 64)       256       \n",
            "_________________________________________________________________\n",
            "Relu_4 (ReLU)                (None, 5, 8, 5, 64)       0         \n",
            "_________________________________________________________________\n",
            "AvePool_4 (AveragePooling3D) (None, 2, 4, 2, 64)       0         \n",
            "_________________________________________________________________\n",
            "flatten (Flatten)            (None, 1024)              0         \n",
            "_________________________________________________________________\n",
            "dense_1 (Dense)              (None, 32)                32800     \n",
            "_________________________________________________________________\n",
            "dense_2 (Dense)              (None, 3)                 99        \n",
            "=================================================================\n",
            "Total params: 253,291\n",
            "Trainable params: 253,051\n",
            "Non-trainable params: 240\n",
            "_________________________________________________________________\n"
          ],
          "name": "stdout"
        }
      ]
    },
    {
      "cell_type": "markdown",
      "metadata": {
        "id": "n1E5HDEqTEh3",
        "colab_type": "text"
      },
      "source": [
        "### EXTRACT THE NETWORK PARAMETERS"
      ]
    },
    {
      "cell_type": "code",
      "metadata": {
        "id": "kasfXbiqTOI1",
        "colab_type": "code",
        "colab": {}
      },
      "source": [
        "#Input image is 1*100*124*104*1 image\n",
        "W_Conv_1a = np.asarray(model_1.get_weights()[0])  #3*3*3*1*8 array of weights   --> takes input to 98*122*102*8 tensor\n",
        "W_Conv_1b = np.asarray(model_1.get_weights()[2])  #3*3*3*8*8 array of weights   --> takes input to 96*120*100*8 tensor\n",
        "W_Conv_2a = np.asarray(model_1.get_weights()[8])  #3*3*3*8*16 array of weights  --> takes input to 46*58*48*16 tensor\n",
        "W_Conv_2b = np.asarray(model_1.get_weights()[10]) #3*3*3*16*16 array of weights --> takes input to 44*56*46*16 tensor\n",
        "W_Conv_3a = np.asarray(model_1.get_weights()[16]) #3*3*3*16*32 array of weights --> takes input to 20*26*21*32 tensor\n",
        "W_Conv_3b = np.asarray(model_1.get_weights()[18]) #3*3*3*32*32 array of weights --> takes input to 18*24*19*32 tensor\n",
        "W_Conv_4a = np.asarray(model_1.get_weights()[24]) #3*3*3*32*64 array of weights --> takes input to 7*10*7*64 tensor\n",
        "W_Conv_4b = np.asarray(model_1.get_weights()[26]) #3*3*3*64*64 array of weights --> takes input to 5*8*5*64 tensor\n",
        "\n",
        "B_Conv_1a = np.asarray(model_1.get_weights()[1])  #array of 8 biases\n",
        "B_Conv_1b = np.asarray(model_1.get_weights()[3])  #array of 8 biases\n",
        "B_Conv_2a = np.asarray(model_1.get_weights()[9])  #array of 16 biases\n",
        "B_Conv_2b = np.asarray(model_1.get_weights()[11]) #array of 16 biases\n",
        "B_Conv_3a = np.asarray(model_1.get_weights()[17]) #array of 32 biases\n",
        "B_Conv_3b = np.asarray(model_1.get_weights()[19]) #array of 32 biases\n",
        "B_Conv_4a = np.asarray(model_1.get_weights()[25]) #array of 64 biases\n",
        "B_Conv_4b = np.asarray(model_1.get_weights()[27]) #array of 64 biases\n",
        "\n",
        "gamma_1 = np.asarray(model_1.get_weights()[4]) #8 gammas\n",
        "beta_1 = np.asarray(model_1.get_weights()[5]) #8 betas\n",
        "mean_1 = np.asarray(model_1.get_weights()[6]) #8 means\n",
        "var_1 = np.asarray(model_1.get_weights()[7]) #8 variances\n",
        "\n",
        "gamma_2 = np.asarray(model_1.get_weights()[12]) #16 gammas\n",
        "beta_2 = np.asarray(model_1.get_weights()[13]) #16 betas\n",
        "mean_2 = np.asarray(model_1.get_weights()[14]) #16 means\n",
        "var_2 = np.asarray(model_1.get_weights()[15]) #16 variances\n",
        "\n",
        "gamma_3 = np.asarray(model_1.get_weights()[20]) #32 gammas\n",
        "beta_3 = np.asarray(model_1.get_weights()[21]) #32 betas\n",
        "mean_3 = np.asarray(model_1.get_weights()[22]) #32 means\n",
        "var_3 = np.asarray(model_1.get_weights()[23]) #32 variances\n",
        "\n",
        "gamma_4 = np.asarray(model_1.get_weights()[28]) #64 gammas\n",
        "beta_4 = np.asarray(model_1.get_weights()[29]) #64 betas\n",
        "mean_4 = np.asarray(model_1.get_weights()[30]) #64 means\n",
        "var_4 = np.asarray(model_1.get_weights()[31]) #64 variances\n",
        "\n",
        "W_Dense_1 = np.asarray(model_1.get_weights()[32]) #1024*32 array of weights --> takes 1024 flattened tensor to 32 activations (dense)\n",
        "W_Dense_2 = np.asarray(model_1.get_weights()[34]) #32*3 array of weights --> takes 32 activations from previous layer to 3 activations (dense)\n",
        "\n",
        "B_Dense_1 = np.asarray(model_1.get_weights()[33]) #array of 32 biases\n",
        "B_Dense_2 = np.asarray(model_1.get_weights()[35]) #array of 3 biases"
      ],
      "execution_count": 0,
      "outputs": []
    },
    {
      "cell_type": "markdown",
      "metadata": {
        "id": "CJPHhOSoiIpn",
        "colab_type": "text"
      },
      "source": [
        "LAYERS STRUCTURE"
      ]
    },
    {
      "cell_type": "code",
      "metadata": {
        "id": "n1XWIT5TiL3O",
        "colab_type": "code",
        "colab": {}
      },
      "source": [
        "#1.    3*3*3 convolution window: takes 100*124*104*1 image to 98*122*102*8 tensor  -- W_Conv_1a, B_Conv_1a\n",
        "#2.    3*3*3 convolution window: takes 98*122*102*8 tensor to 96*120*100*8 tensor  -- W_Conv_1b, B_Conv_1b\n",
        "#3.    batchnorm normalisation: no shape change                                    -- gamma_BatchNorm_1, beta_BatchNorm_1, mean_BatchNorm_1, var_BatchNorm_1\n",
        "#4.    ReLU activation: no shape change\n",
        "#5.    2*2*2 avePooling layer: takes 96*120*100*8 tensor to 48*60*50*8 tensor\n",
        "\n",
        "#6.    3*3*3 convolution window: takes 48*60*50*8 tensor to 46*58*48*16 tensor     -- W_Conv_2a, B_Conv_2a\n",
        "#7.    3*3*3 convolution window: takes 46*58*48*16 tensor to 44*56*46*16 tensor    -- W_Conv_2b, B_Conv_2b\n",
        "#8.    batchnorm normalisation: no shape change                                    -- gamma_BatchNorm_2, beta_BatchNorm_2, mean_BatchNorm_2, var_BatchNorm_2\n",
        "#9.    ReLU activation: no shape change\n",
        "#10.   2*2*2 avePooling layer: takes 44*56*46*16 tensor to 22*28*23*16 tensor\n",
        "\n",
        "#11.   3*3*3 convolution window: takes 22*28*23*16 tensor to 20*26*21*32 tensor    -- W_Conv_3a, B_Conv_3a\n",
        "#12.   3*3*3 convolution window: takes 20*26*21*32 tensor to 18*24*19*32 tensor    -- W_Conv_3b, B_Conv_3b\n",
        "#13.   batchnorm normalisation: no shape change                                    -- gamma_BatchNorm_3, beta_BatchNorm_3, mean_BatchNorm_3, var_BatchNorm_3\n",
        "#14.   ReLU activation: no shape change\n",
        "#15.   2*2*2 avePooling layer: takes 18*24*19*32 tensor to 9*12*9*32 tensor\n",
        "\n",
        "#16.   3*3*3 convolution window: takes 9*12*9*32 tensor to 7*10*7*64 tensor        -- W_Conv_4a, B_Conv_4a\n",
        "#17.   3*3*3 convolution window: takes 7*10*7*64 tensor to 5*8*5*64 tensor         -- W_Conv_4b, B_Conv_4b\n",
        "#18.   batchnorm normalisation: no shape change                                    -- gamma_BatchNorm_4, beta_BatchNorm_4, mean_BatchNorm_4, var_BatchNorm_4\n",
        "#19.   ReLU activation: no shape change\n",
        "#20.   2*2*2 avePooling layer: takes 5*8*5*64 tensor to 2*4*2*64 tensor\n",
        "\n",
        "#21.   Flattening layer: takes 2*4*2*64 tensor to 1024 tensor\n",
        "#22.   Fully-connected layer: 32 neurons, ReLU activation                          -- W_Dense_1, B_Dense_1\n",
        "#23.   Fully-connected layer: 3 neurons, Softmax activation                        -- W_Dense_2, B_Dense_2"
      ],
      "execution_count": 0,
      "outputs": []
    },
    {
      "cell_type": "markdown",
      "metadata": {
        "id": "iOtEA6sliWEO",
        "colab_type": "text"
      },
      "source": [
        "### EXAMINE PARTS OF THE MRI DATA"
      ]
    },
    {
      "cell_type": "code",
      "metadata": {
        "id": "FM4ieprFifFH",
        "colab_type": "code",
        "outputId": "78b41fa3-1838-47d7-fec1-64d90ce26b4e",
        "colab": {
          "base_uri": "https://localhost:8080/",
          "height": 770
        }
      },
      "source": [
        "subject = 58 #np.random.randint(0, 324)     #Somewhere between 0 and 341\n",
        "width = 49                              #Somewhere between 0 and 99\n",
        "depth = 60                              #Somewhere between 0 and 123\n",
        "height = 50                             #Somewhere between 0 and 103\n",
        "#Image dimensions are (342, 100, 124, 104, 1)\n",
        "\n",
        "plt.imshow(gm[subject, width, :, :, 0], cmap = 'gray')\n",
        "plt.axis('off')\n",
        "plt.savefig('MRI_ex1')\n",
        "plt.show()\n",
        "\n",
        "plt.imshow(gm[subject, :, depth, :, 0], cmap = 'gray')\n",
        "plt.axis('off')\n",
        "plt.savefig('MRI_ex2')\n",
        "plt.show()\n",
        "\n",
        "plt.imshow(gm[subject, :, :, height, 0], cmap = 'gray')\n",
        "plt.axis('off')\n",
        "plt.savefig('MRI_ex3')\n",
        "plt.show()\n",
        "\n",
        "#subject"
      ],
      "execution_count": 75,
      "outputs": [
        {
          "output_type": "display_data",
          "data": {
            "image/png": "[encoded data removed]",
            "text/plain": [
              "<Figure size 432x288 with 1 Axes>"
            ]
          },
          "metadata": {
            "tags": []
          }
        },
        {
          "output_type": "display_data",
          "data": {
            "image/png": "[encoded data removed]",
            "text/plain": [
              "<Figure size 432x288 with 1 Axes>"
            ]
          },
          "metadata": {
            "tags": []
          }
        },
        {
          "output_type": "display_data",
          "data": {
            "image/png": "[encoded data removed]",
            "text/plain": [
              "<Figure size 432x288 with 1 Axes>"
            ]
          },
          "metadata": {
            "tags": []
          }
        }
      ]
    },
    {
      "cell_type": "code",
      "metadata": {
        "id": "YIBIe-HS_CLW",
        "colab_type": "code",
        "colab": {}
      },
      "source": [
        "#files.download('MRI_ex1.png')\n",
        "#files.download('MRI_ex2.png')\n",
        "#files.download('MRI_ex3.png')"
      ],
      "execution_count": 0,
      "outputs": []
    },
    {
      "cell_type": "markdown",
      "metadata": {
        "id": "4j9WYMMFf3Xv",
        "colab_type": "text"
      },
      "source": [
        "### TRAIN MODEL"
      ]
    },
    {
      "cell_type": "code",
      "metadata": {
        "id": "jU3YwxCAf657",
        "colab_type": "code",
        "colab": {}
      },
      "source": [
        "gm_train, gm_test, ages_train, ages_test = train_test_split(\n",
        "  gm, ages, train_size = 0.08, test_size = 0.02, shuffle = True)\n",
        "\n",
        "EPOCHS = 1\n",
        "\n",
        "history = model_1.fit(gm_train, ages_train, epochs = EPOCHS,\n",
        "            batch_size=3, validation_data=(gm_test, ages_test), verbose=1)\n",
        "\n",
        "model_1.save('model_1.h5')"
      ],
      "execution_count": 0,
      "outputs": []
    },
    {
      "cell_type": "markdown",
      "metadata": {
        "id": "6Lym4wJs3WVJ",
        "colab_type": "text"
      },
      "source": [
        "### MAKE SOME PREDICTIONS"
      ]
    },
    {
      "cell_type": "markdown",
      "metadata": {
        "id": "Sf0-1KwCXOSP",
        "colab_type": "text"
      },
      "source": [
        "RANDOM SAMPLES"
      ]
    },
    {
      "cell_type": "code",
      "metadata": {
        "id": "_iKTx1-I3mEJ",
        "colab_type": "code",
        "colab": {}
      },
      "source": [
        "N = 50\n",
        "random_patients = np.random.randint(0, 342, N)\n",
        "random_ages = np.zeros(N)\n",
        "random_gm = np.zeros(N*100*124*104)#(N, 100, 124, 104, 1)\n",
        "random_gm = random_gm.reshape(N, 100, 124, 104, 1)\n",
        "j = 0\n",
        "\n",
        "for i in range(0, N):\n",
        "  j = random_patients[i]\n",
        "  random_ages[i] = ages[j]\n",
        "  random_gm[i, :, :, :, :] = gm[j, :, :, :, :]"
      ],
      "execution_count": 0,
      "outputs": []
    },
    {
      "cell_type": "markdown",
      "metadata": {
        "id": "dxuXdLOwXTtk",
        "colab_type": "text"
      },
      "source": [
        "ONLY ELDERLY SAMPLES"
      ]
    },
    {
      "cell_type": "code",
      "metadata": {
        "id": "hCx_hi_yXNnJ",
        "colab_type": "code",
        "colab": {}
      },
      "source": [
        "N = 114 #up to 114\n",
        "oldbois = 2*np.ones(N)\n",
        "old_gm = np.zeros(N*100*124*104)#(N, 100, 124, 104, 1)\n",
        "old_gm = old_gm.reshape(N, 100, 124, 104, 1)\n",
        "j = 0\n",
        "a = 0\n",
        "\n",
        "for i in range(0, 342):\n",
        "  a = ages[i]\n",
        "  if a == 2:\n",
        "    old_gm[j, :, :, :, :] = gm[i, :, :, :, :]\n",
        "    j += 1\n",
        "  if j >= N:\n",
        "    break"
      ],
      "execution_count": 0,
      "outputs": []
    },
    {
      "cell_type": "markdown",
      "metadata": {
        "id": "NJKRyz86bMHr",
        "colab_type": "text"
      },
      "source": [
        "ONLY YOUNG SAMPLES"
      ]
    },
    {
      "cell_type": "code",
      "metadata": {
        "id": "pa9-GVP6bU1i",
        "colab_type": "code",
        "colab": {}
      },
      "source": [
        "N = 114 #up to 114\n",
        "youngbois = np.zeros(N)\n",
        "young_gm = np.zeros(N*100*124*104)#(N, 100, 124, 104, 1)\n",
        "young_gm = young_gm.reshape(N, 100, 124, 104, 1)\n",
        "j = 0\n",
        "a = 0\n",
        "\n",
        "for i in range(0, 342):\n",
        "  a = ages[i]\n",
        "  if a == 0:\n",
        "    young_gm[j, :, :, :, :] = gm[i, :, :, :, :]\n",
        "    j += 1\n",
        "  if j >= N:\n",
        "    break"
      ],
      "execution_count": 0,
      "outputs": []
    },
    {
      "cell_type": "markdown",
      "metadata": {
        "id": "1JLWsT37bPUa",
        "colab_type": "text"
      },
      "source": [
        "ONLY MIDDLE-AGED SAMPLES"
      ]
    },
    {
      "cell_type": "code",
      "metadata": {
        "id": "rkGRRobnbxDp",
        "colab_type": "code",
        "colab": {}
      },
      "source": [
        "N = 114 #up to 114\n",
        "midbois = 1*np.ones(N)\n",
        "mid_gm = np.zeros(N*100*124*104)#(N, 100, 124, 104, 1)\n",
        "mid_gm = mid_gm.reshape(N, 100, 124, 104, 1)\n",
        "j = 0\n",
        "a = 0\n",
        "\n",
        "for i in range(0, 342):\n",
        "  a = ages[i]\n",
        "  if a == 1:\n",
        "    mid_gm[j, :, :, :, :] = gm[i, :, :, :, :]\n",
        "    j += 1\n",
        "  if j >= N:\n",
        "    break"
      ],
      "execution_count": 0,
      "outputs": []
    },
    {
      "cell_type": "markdown",
      "metadata": {
        "id": "ueVHnTj3cPCV",
        "colab_type": "text"
      },
      "source": [
        "RANDOM RESULTS"
      ]
    },
    {
      "cell_type": "code",
      "metadata": {
        "id": "oD0JiK0B56ob",
        "colab_type": "code",
        "outputId": "20bd70ca-d151-4911-e57b-edc1ed19ac04",
        "colab": {
          "base_uri": "https://localhost:8080/",
          "height": 51
        }
      },
      "source": [
        "results = model_1.evaluate(random_gm, random_ages)\n",
        "print('loss, accuracy: {}'.format(results)) #0.72222"
      ],
      "execution_count": 0,
      "outputs": [
        {
          "output_type": "stream",
          "text": [
            "50/50 [==============================] - 55s 1s/sample - loss: 0.4025 - acc: 0.8200\n",
            "loss, accuracy: [0.40246675789356234, 0.82]\n"
          ],
          "name": "stdout"
        }
      ]
    },
    {
      "cell_type": "markdown",
      "metadata": {
        "id": "mqaZIVKHcRlB",
        "colab_type": "text"
      },
      "source": [
        "YOUNG ONLY RESULTS"
      ]
    },
    {
      "cell_type": "code",
      "metadata": {
        "id": "jDmq8uymcMAA",
        "colab_type": "code",
        "outputId": "3bee25c1-df24-4b7b-8a21-2cc3d97ba58f",
        "colab": {
          "base_uri": "https://localhost:8080/",
          "height": 51
        }
      },
      "source": [
        "results = model_1.evaluate(young_gm, youngbois)\n",
        "print('loss, accuracy: {}'.format(results)) #0.81578946"
      ],
      "execution_count": 0,
      "outputs": [
        {
          "output_type": "stream",
          "text": [
            "114/114 [==============================] - 122s 1s/sample - loss: 0.5138 - acc: 0.8158\n",
            "loss, accuracy: [0.5138063990233237, 0.81578946]\n"
          ],
          "name": "stdout"
        }
      ]
    },
    {
      "cell_type": "markdown",
      "metadata": {
        "id": "G8o94koLcWGP",
        "colab_type": "text"
      },
      "source": [
        "MID ONLY RESULTS"
      ]
    },
    {
      "cell_type": "code",
      "metadata": {
        "id": "dU8qNRtncYtc",
        "colab_type": "code",
        "outputId": "111b55e5-5ce5-4a33-94c4-e6d98d0d6a94",
        "colab": {
          "base_uri": "https://localhost:8080/",
          "height": 51
        }
      },
      "source": [
        "results = model_1.evaluate(mid_gm, midbois)\n",
        "#results = model_1.evaluate(mid_gm, oldbois) #0.49122807\n",
        "print('loss, accuracy: {}'.format(results)) #0.3508772"
      ],
      "execution_count": 0,
      "outputs": [
        {
          "output_type": "stream",
          "text": [
            "114/114 [==============================] - 124s 1s/sample - loss: 1.4446 - acc: 0.4912\n",
            "loss, accuracy: [1.4445636523397345, 0.49122807]\n"
          ],
          "name": "stdout"
        }
      ]
    },
    {
      "cell_type": "markdown",
      "metadata": {
        "id": "b4SB2ByncUhx",
        "colab_type": "text"
      },
      "source": [
        "OLD ONLY RESULTS"
      ]
    },
    {
      "cell_type": "code",
      "metadata": {
        "id": "VPSTdau4Yh5G",
        "colab_type": "code",
        "outputId": "05a86460-24cd-4c23-9499-dd47ea9e10f7",
        "colab": {
          "base_uri": "https://localhost:8080/",
          "height": 51
        }
      },
      "source": [
        "results = model_1.evaluate(old_gm, oldbois)\n",
        "print('loss, accuracy: {}'.format(results)) #1.0"
      ],
      "execution_count": 0,
      "outputs": [
        {
          "output_type": "stream",
          "text": [
            "114/114 [==============================] - 121s 1s/sample - loss: 0.0486 - acc: 1.0000\n",
            "loss, accuracy: [0.04857893961302021, 1.0]\n"
          ],
          "name": "stdout"
        }
      ]
    },
    {
      "cell_type": "markdown",
      "metadata": {
        "id": "s6Gjtxusg2mO",
        "colab_type": "text"
      },
      "source": [
        "### EXAMINE MRI DATA FROM EACH GROUP"
      ]
    },
    {
      "cell_type": "code",
      "metadata": {
        "id": "VPy5nsnwg9cA",
        "colab_type": "code",
        "outputId": "21da7a03-ae9d-471c-b751-46c309c66d8e",
        "colab": {
          "base_uri": "https://localhost:8080/",
          "height": 770
        }
      },
      "source": [
        "subject = 90 #Somewhere between 0 and 113\n",
        "height = 50 #Somewhere between 0 and 103\n",
        "depth = 60 #Somewhere between 0 and 123\n",
        "width = 50 #Somewhere between 0 and 99\n",
        "#Image dimensions are (342, 100, 124, 104, 1)\n",
        "\n",
        "plt.imshow(young_gm[subject, :, :, height, 0]/np.max(young_gm[subject, :, :, height, 0]), cmap = 'gray')\n",
        "plt.axis('off')\n",
        "plt.show()\n",
        "plt.imshow(mid_gm[subject, :, :, height, 0]/np.max(mid_gm[subject, :, :, height, 0]), cmap = 'gray')\n",
        "plt.axis('off')\n",
        "plt.show()\n",
        "plt.imshow(old_gm[subject, :, :, height, 0]/np.max(old_gm[subject, :, :, height, 0]), cmap = 'gray')\n",
        "plt.axis('off')\n",
        "plt.show()\n",
        "#Each image normalised to have the brightest pixel value be 1"
      ],
      "execution_count": 0,
      "outputs": [
        {
          "output_type": "display_data",
          "data": {
            "image/png": "[encoded data removed]",
            "text/plain": [
              "<Figure size 432x288 with 1 Axes>"
            ]
          },
          "metadata": {
            "tags": []
          }
        },
        {
          "output_type": "display_data",
          "data": {
            "image/png": "[encoded data removed]",
            "text/plain": [
              "<Figure size 432x288 with 1 Axes>"
            ]
          },
          "metadata": {
            "tags": []
          }
        },
        {
          "output_type": "display_data",
          "data": {
            "image/png": "[encoded data removed]",
            "text/plain": [
              "<Figure size 432x288 with 1 Axes>"
            ]
          },
          "metadata": {
            "tags": []
          }
        }
      ]
    },
    {
      "cell_type": "markdown",
      "metadata": {
        "id": "6Nx3_B_8pqbX",
        "colab_type": "text"
      },
      "source": [
        "### HEATMAP FUNCTIONS"
      ]
    },
    {
      "cell_type": "code",
      "metadata": {
        "id": "m63tT_6kpucz",
        "colab_type": "code",
        "colab": {}
      },
      "source": [
        "lowest = -4.0\n",
        "highest = 4.0\n",
        "\n",
        "#########################\n",
        "##DENSE LAYER FUNCTIONS##\n",
        "#########################\n",
        "\n",
        "def forward_first(X, W, B):\n",
        "  return np.matmul(X, W) + B\n",
        "\n",
        "def relprop_first(X, W, R):\n",
        "  V = np.maximum(0, W)\n",
        "  U = np.minimum(0, W)\n",
        "  L = X*0 + lowest  #vector of the same number -- lower bound\n",
        "  H = X*0 + highest #vector of the same number -- upper bound\n",
        "  \n",
        "  Z = np.matmul(X, W) - np.matmul(L, V) - np.matmul(H, U) + 1e-9\n",
        "  S = R/Z\n",
        "  R = X*np.dot(S, W.T) - L*np.dot(S, V.T) - H*np.dot(S, U.T)\n",
        "  return R\n",
        "  \n",
        "def forward_next(X, W, B):\n",
        "  return np.matmul(X, W) + B\n",
        "\n",
        "#z^+ rule\n",
        "def relprop_next(X, W, R):\n",
        "  V = np.maximum(0, W)\n",
        "  Z = np.matmul(X, V) + 1e-9 #we divide by this later -- no division by zero!\n",
        "  S = R/Z\n",
        "  C = np.dot(S, V.T)\n",
        "  R = X*C\n",
        "  return R\n",
        "  \n",
        "def forward_relu(X):\n",
        "  Z = X>0\n",
        "  return X*Z\n",
        "\n",
        "def relprop_relu(R):\n",
        "  return R\n",
        "\n",
        "\n",
        "#########################\n",
        "##CONVOLUTION FUNCTIONS##\n",
        "#########################\n",
        "\n",
        "def forward_conv(X, V, B): #(activations a.c.l., weights f.h.l., biases f.h.l.)\n",
        "  mb, wx, hx, dx, nx = X.shape\n",
        "  ww, hw, dw, nx, ny = V.shape\n",
        "  \n",
        "  wy = wx - ww + 1\n",
        "  hy = hx - hw + 1\n",
        "  dy = dx - dw + 1\n",
        "  \n",
        "  Y = np.zeros([mb, wy, hy, dy, ny], dtype = 'float32')\n",
        "  \n",
        "  for i in range(ww):\n",
        "    for j in range(hw):\n",
        "      for k in range(dw):\n",
        "        Y += np.dot(X[:, i:(i + wy), j:(j + hy), k:(k + dy), :], V[i, j, k, :, :])\n",
        "      \n",
        "  return Y + B\n",
        "\n",
        "def gradprop_conv(X, W, DY):\n",
        "  mb, wy, hy, dy, ny = DY.shape\n",
        "  ww, hw, dw, nx, ny = W.shape\n",
        "  \n",
        "  DX = X*0\n",
        "  \n",
        "  for i in range(ww):\n",
        "    for j in range(hw):\n",
        "      for k in range(dw):\n",
        "        DX[:, i:(i + wy), j:(j + hy), k:(k + dy), :] += np.dot(DY, W[i, j, k, :, :].T)\n",
        "      \n",
        "  return DX\n",
        "\n",
        "#z^+ rule\n",
        "def relprop_nextconv(X, W, R): #(activations a.h.l., weights f.h.l., relevance a.c.l.)\n",
        "  V = np.maximum(0, W)\n",
        "  Z = forward_conv(X, V, 0) + 1e-9\n",
        "  S = R/Z\n",
        "  C = gradprop_conv(X, V, S)#changed W->V\n",
        "  R = X*C\n",
        "  return R\n",
        "\n",
        "def relprop_firstconv(X, W, R):\n",
        "  V = np.maximum(0, W)\n",
        "  U = np.minimum(0, W)\n",
        "  \n",
        "  L = X*0 + lowest\n",
        "  H = X*0 + highest\n",
        "  \n",
        "  Z = forward_conv(X, W, R) - forward_conv(L, V, R) - forward_conv(H, U, R) + 1e-9\n",
        "  \n",
        "  S = R/Z\n",
        "  R = X*gradprop_conv(X, W, S) - L*gradprop_conv(L, V, S) - H*gradprop_conv(H, U, S)\n",
        "  return R\n",
        "\n",
        "\n",
        "#####################\n",
        "##POOLING FUNCTIONS##\n",
        "#####################\n",
        "\n",
        "def forward_pooling(X):\n",
        "  x = int(2*np.floor(X.shape[1]/2.0))\n",
        "  y = int(2*np.floor(X.shape[2]/2.0))\n",
        "  z = int(2*np.floor(X.shape[3]/2.0))\n",
        "  \n",
        "  Y = (X[:, :x:2 ,:y:2 , :z:2 ,:] + X[: ,:x:2 ,1:y:2, :z:2, :] + X[:, 1:x:2, :y:2, :z:2, :] + X[:, 1:x:2, 1:y:2, :z:2, :]\n",
        "      + X[:, :x:2 ,:y:2 , 1:z:2 ,:] + X[: ,:x:2 ,1:y:2, 1:z:2, :] + X[:, 1:x:2, :y:2, 1:z:2, :] + X[:, 1:x:2, 1:y:2, 1:z:2, :])/8\n",
        "  return Y\n",
        "\n",
        "def gradprop_pooling(X, DY):\n",
        "  x = int(2*np.floor(X.shape[1]/2.0))\n",
        "  y = int(2*np.floor(X.shape[2]/2.0))\n",
        "  z = int(2*np.floor(X.shape[3]/2.0))\n",
        "  DX = X*0\n",
        "  for i, j, k in [(0, 0, 0), (0, 1, 0), (1, 0, 0), (1, 1, 0), (0, 0, 1), (0, 1, 1), (1, 0, 1), (1, 1, 1)]:\n",
        "    DX[:,i:x:2,j:y:2, k:z:2,:] += DY/8\n",
        "  return DX\n",
        "\n",
        "def relprop_pooling(X, R):\n",
        "  Z = forward_pooling(X) + 1e-9\n",
        "  S = R/Z\n",
        "  C = gradprop_pooling(X, S)\n",
        "  R = X*C\n",
        "  return R\n",
        "\n",
        "\n",
        "#######################\n",
        "# BATCHNORM FUNCTIONS #\n",
        "#######################\n",
        "\n",
        "def forward_batchnorm(X, gamma, beta, mean, var):\n",
        "  eps = 1e-9\n",
        "  var += eps\n",
        "  X_hat = (X - mean)/np.sqrt(var)\n",
        "  Y = gamma*X_hat + beta\n",
        "  return Y\n",
        "\n",
        "#def gradprop_batchnorm():\n",
        "#  return 0\n",
        "\n",
        "def relprop_batchnorm(R):\n",
        "  return R\n",
        "\n",
        "\n",
        "##################\n",
        "##RELU FUNCTIONS##\n",
        "##################\n",
        "\n",
        "def forward_relu(X):\n",
        "  Z = X>0\n",
        "  return X*Z\n",
        "\n",
        "def relprop_relu(R):\n",
        "  return R"
      ],
      "execution_count": 0,
      "outputs": []
    },
    {
      "cell_type": "markdown",
      "metadata": {
        "id": "gBj1htl8uNbO",
        "colab_type": "text"
      },
      "source": [
        "### HEATMAP IMPLEMENTATIONS"
      ]
    },
    {
      "cell_type": "code",
      "metadata": {
        "id": "n5pU58G65Sr6",
        "colab_type": "code",
        "colab": {}
      },
      "source": [
        "subject = np.random.randint(0, 114) #something between 0 and 113\n",
        "one_image = old_gm[subject:(subject + 1), :, :, :, :]\n",
        "\n",
        "X0 = one_image"
      ],
      "execution_count": 0,
      "outputs": []
    },
    {
      "cell_type": "code",
      "metadata": {
        "id": "-o7sb4rsueBy",
        "colab_type": "code",
        "colab": {}
      },
      "source": [
        "one_decision = np.zeros(3)\n",
        "predicted = False\n",
        "count = 0\n",
        "\n",
        "while not predicted:\n",
        "  one_decision = np.argmax(model_1.predict(young_gm[count:(count + 1), :, :, :, :]))\n",
        "  if one_decision == 0:\n",
        "    predicted = True\n",
        "    break\n",
        "  count += 1\n",
        "\n",
        "one_image = young_gm[count:(count + 1), :, :, :, :]\n",
        "#print(np.argmax(model_1.predict(one_image)))\n",
        "X0 = one_image"
      ],
      "execution_count": 0,
      "outputs": []
    },
    {
      "cell_type": "markdown",
      "metadata": {
        "id": "Dtl7aq2PLdyU",
        "colab_type": "text"
      },
      "source": [
        "FORWARD PASS"
      ]
    },
    {
      "cell_type": "code",
      "metadata": {
        "id": "EVGxu84nuTBo",
        "colab_type": "code",
        "colab": {}
      },
      "source": [
        "def get_heatmap(X0):\n",
        "\n",
        "  t0 = time.time()\n",
        "\n",
        "  ############################\n",
        "  # FORWARD PASS ACTIVATIONS #\n",
        "  ############################\n",
        "  \n",
        "  X1 = forward_conv(X0, W_Conv_1a, B_Conv_1a)\n",
        "  Relu1 = forward_relu(X1)\n",
        "  X2 = forward_conv(Relu1, W_Conv_1b, B_Conv_1b)\n",
        "  X3 = forward_batchnorm(X2, gamma_1, beta_1, mean_1, var_1)\n",
        "  Relu2 = forward_relu(X3)\n",
        "  X4 = forward_pooling(Relu2)\n",
        "  \n",
        "  X5 = forward_conv(X4, W_Conv_2a, B_Conv_2a)\n",
        "  Relu3 = forward_relu(X5)\n",
        "  X6 = forward_conv(Relu3, W_Conv_2b, B_Conv_2b)\n",
        "  X7 = forward_batchnorm(X6, gamma_2, beta_2, mean_2, var_2)\n",
        "  Relu4 = forward_relu(X7)\n",
        "  X8 = forward_pooling(Relu4)\n",
        "  \n",
        "  X9 = forward_conv(X8, W_Conv_3a, B_Conv_3a)\n",
        "  Relu5 = forward_relu(X9)\n",
        "  X10 = forward_conv(Relu5, W_Conv_3b, B_Conv_3b)\n",
        "  X11 = forward_batchnorm(X10, gamma_3, beta_3, mean_3, var_3)\n",
        "  Relu6 = forward_relu(X11)\n",
        "  X12 = forward_pooling(Relu6)\n",
        "  \n",
        "  X13 = forward_conv(X12, W_Conv_4a, B_Conv_4a)\n",
        "  Relu7 = forward_relu(X13)\n",
        "  X14 = forward_conv(Relu7, W_Conv_4b, B_Conv_4b)\n",
        "  X15 = forward_batchnorm(X14, gamma_4, beta_4, mean_4, var_4)\n",
        "  Relu8 = forward_relu(X15)\n",
        "  X16 = forward_pooling(Relu8)\n",
        "  \n",
        "  X17 = np.reshape(X16, (1024))\n",
        "  X18 = forward_next(X17, W_Dense_1, B_Dense_1)\n",
        "  Relu9 = forward_relu(X18)\n",
        "  X19 = forward_next(Relu9, W_Dense_2, B_Dense_2)\n",
        "  \n",
        "  \n",
        "  #########################\n",
        "  # RELEVANCE PROPAGATION #\n",
        "  #########################\n",
        "  \n",
        "  R = np.zeros_like(X19)\n",
        "  R[np.argmax(X19)] = X19[np.argmax(X19)]\n",
        "  decision = R\n",
        "  #print(R.shape)\n",
        "  \n",
        "  R = relprop_next(Relu9, W_Dense_2, R)     #Back at Relu9\n",
        "  R = relprop_next(X17, W_Dense_1, R)       #Back at X17\n",
        "  R = np.reshape(R, (1, 2, 4, 2, 64))       #Back at X16\n",
        "  R = relprop_pooling(Relu8, R)             #Back at Relu8\n",
        "  R = relprop_relu(R)                       #Back at X15\n",
        "  R = relprop_nextconv(Relu7, W_Conv_4b, R) #Back at Relu7\n",
        "  R = relprop_nextconv(X12, W_Conv_4a, R)   #Back at X12\n",
        "  R = relprop_pooling(Relu6, R)             #Back at Relu6\n",
        "  R = relprop_nextconv(Relu5, W_Conv_3b, R) #Back at Relu5\n",
        "  R = relprop_nextconv(X8, W_Conv_3a, R)    #Back at X8\n",
        "  R = relprop_pooling(Relu4, R)             #Back at Relu4\n",
        "  R = relprop_nextconv(Relu3, W_Conv_2b, R) #Back at Relu3\n",
        "  R = relprop_nextconv(X4, W_Conv_2a, R)    #Back at X4\n",
        "  R = relprop_pooling(Relu2, R)             #Back at Relu2\n",
        "  R = relprop_nextconv(Relu1, W_Conv_1b, R) #Back at Relu1\n",
        "  R = relprop_firstconv(X0, W_Conv_1a, R)   #Image recovery\n",
        "\n",
        "  t1 = time.time()\n",
        "  print('Time elapsed for heatmap implementation: {}s'.format(t1 - t0))\n",
        "\n",
        "  return R, decision"
      ],
      "execution_count": 0,
      "outputs": []
    },
    {
      "cell_type": "code",
      "metadata": {
        "id": "8Rrmygo8m_iO",
        "colab_type": "code",
        "colab": {
          "base_uri": "https://localhost:8080/",
          "height": 34
        },
        "outputId": "5abc1f7c-e851-4acf-bb3b-783ac7d179f6"
      },
      "source": [
        "R, decision = get_heatmap(X0)"
      ],
      "execution_count": 78,
      "outputs": [
        {
          "output_type": "stream",
          "text": [
            "Time elapsed for heatmap implementation: 62.34455633163452s\n"
          ],
          "name": "stdout"
        }
      ]
    },
    {
      "cell_type": "code",
      "metadata": {
        "id": "pB3pugmOcuj0",
        "colab_type": "code",
        "outputId": "bb0b4fbc-196d-4cd8-982f-81ebfce1f2f0",
        "colab": {
          "base_uri": "https://localhost:8080/",
          "height": 51
        }
      },
      "source": [
        "print('Maximum input value: {}'.format(np.max(X0)))\n",
        "print('Minimum input value: {}'.format(np.min(X0)))"
      ],
      "execution_count": 56,
      "outputs": [
        {
          "output_type": "stream",
          "text": [
            "Maximum input value: 1.2216796875\n",
            "Minimum input value: 0.0\n"
          ],
          "name": "stdout"
        }
      ]
    },
    {
      "cell_type": "code",
      "metadata": {
        "id": "VoZPldbcarl_",
        "colab_type": "code",
        "outputId": "4df95708-27b8-457e-88d4-6b3f9e4ecf8b",
        "colab": {
          "base_uri": "https://localhost:8080/",
          "height": 51
        }
      },
      "source": [
        "print('Maximum relevance value: {}'.format(np.max(R)))\n",
        "print('Minimum relevance value: {}'.format(np.min(R)))"
      ],
      "execution_count": 55,
      "outputs": [
        {
          "output_type": "stream",
          "text": [
            "Maximum relevance value: 0.0009314642369170345\n",
            "Minimum relevance value: 0.0\n"
          ],
          "name": "stdout"
        }
      ]
    },
    {
      "cell_type": "code",
      "metadata": {
        "id": "i6vcEmECqu7a",
        "colab_type": "code",
        "colab": {}
      },
      "source": [
        "def show_consistency(R, decision):\n",
        "  print('Original relevance: {}'.format(np.max(decision)))\n",
        "  print('Final total relevance: {}'.format(np.sum(R)))\n",
        "  print('Relevance propagation error: {}%'.format(100*np.abs((np.max(decision) - np.sum(R))/np.max(decision))))"
      ],
      "execution_count": 0,
      "outputs": []
    },
    {
      "cell_type": "code",
      "metadata": {
        "id": "kwJ6B0n1xGBE",
        "colab_type": "code",
        "colab": {
          "base_uri": "https://localhost:8080/",
          "height": 68
        },
        "outputId": "d3c0e7df-f401-4735-8236-f27ebc700a49"
      },
      "source": [
        "show_consistency(R, decision)\n",
        "\n",
        "#Old indiv.\n",
        "#Original relevance: 9.362269401550293\n",
        "#Final total relevance: 9.362344630241495\n",
        "#Relevance propagation error: 0.0008035305114093777%\n",
        "\n",
        "#Young indiv.\n",
        "#Original relevance: 6.607844829559326\n",
        "#Final total relevance: 6.607890142735507\n",
        "#Relevance propagation error: 0.0006857481879471272%"
      ],
      "execution_count": 79,
      "outputs": [
        {
          "output_type": "stream",
          "text": [
            "Original relevance: 9.362269401550293\n",
            "Final total relevance: 9.362344630241495\n",
            "Relevance propagation error: 0.0008035305114093777%\n"
          ],
          "name": "stdout"
        }
      ]
    },
    {
      "cell_type": "markdown",
      "metadata": {
        "id": "SJ9v0PlRpmtS",
        "colab_type": "text"
      },
      "source": [
        "## DISPLAY AND SAVE HEATMAPS"
      ]
    },
    {
      "cell_type": "code",
      "metadata": {
        "id": "QMvq3bzwX37t",
        "colab_type": "code",
        "colab": {}
      },
      "source": [
        "def save_and_display(X0, R, old = True):\n",
        "  for i in range(4):\n",
        "    height = 20*(i + 1)\n",
        "\n",
        "    #plt.imshow(X0[0, :, :, height, 0]/np.max(X0[0, :, :, height, 0]), cmap = 'gray')\n",
        "    plt.imshow(X0[0, :, :, height, 0], cmap = 'gray')\n",
        "    plt.axis('off')\n",
        "    if old: plt.savefig('old_MRI_{}'.format(i))\n",
        "    else: plt.savefig('young_MRI_{}'.format(i))\n",
        "    plt.show()\n",
        "\n",
        "    r = np.max(R[0, :, :, height, 0])\n",
        "    if r == 0: r += 1e-9\n",
        "    plt.imshow(R[0, :, :, height, 0]/r, cmap = 'Reds_r')\n",
        "    plt.axis('off')\n",
        "    plt.colorbar()\n",
        "    if old: plt.savefig('old_hm_{}'.format(i))\n",
        "    else: plt.savefig('young_hm_{}'.format(i))\n",
        "    plt.show()"
      ],
      "execution_count": 0,
      "outputs": []
    },
    {
      "cell_type": "code",
      "metadata": {
        "id": "a7bMiNYgrHeo",
        "colab_type": "code",
        "colab": {
          "base_uri": "https://localhost:8080/",
          "height": 1000
        },
        "outputId": "9ce82376-b7f2-4941-d17a-8b2ae9b8c5fa"
      },
      "source": [
        "save_and_display(X0, R, old = False)"
      ],
      "execution_count": 59,
      "outputs": [
        {
          "output_type": "display_data",
          "data": {
            "image/png": "[encoded data removed]",
            "text/plain": [
              "<Figure size 432x288 with 1 Axes>"
            ]
          },
          "metadata": {
            "tags": []
          }
        },
        {
          "output_type": "display_data",
          "data": {
            "image/png": "[encoded data removed]",
            "text/plain": [
              "<Figure size 432x288 with 2 Axes>"
            ]
          },
          "metadata": {
            "tags": []
          }
        },
        {
          "output_type": "display_data",
          "data": {
            "image/png": "[encoded data removed]",
            "text/plain": [
              "<Figure size 432x288 with 1 Axes>"
            ]
          },
          "metadata": {
            "tags": []
          }
        },
        {
          "output_type": "display_data",
          "data": {
            "image/png": "[encoded data removed]",
            "text/plain": [
              "<Figure size 432x288 with 2 Axes>"
            ]
          },
          "metadata": {
            "tags": []
          }
        },
        {
          "output_type": "display_data",
          "data": {
            "image/png": "[encoded data removed]",
            "text/plain": [
              "<Figure size 432x288 with 1 Axes>"
            ]
          },
          "metadata": {
            "tags": []
          }
        },
        {
          "output_type": "display_data",
          "data": {
            "image/png": "[encoded data removed]",
            "text/plain": [
              "<Figure size 432x288 with 2 Axes>"
            ]
          },
          "metadata": {
            "tags": []
          }
        },
        {
          "output_type": "display_data",
          "data": {
            "image/png": "[encoded data removed]",
            "text/plain": [
              "<Figure size 432x288 with 1 Axes>"
            ]
          },
          "metadata": {
            "tags": []
          }
        },
        {
          "output_type": "display_data",
          "data": {
            "image/png": "[encoded data removed]",
            "text/plain": [
              "<Figure size 432x288 with 2 Axes>"
            ]
          },
          "metadata": {
            "tags": []
          }
        }
      ]
    },
    {
      "cell_type": "code",
      "metadata": {
        "id": "aQUow6DGth6z",
        "colab_type": "code",
        "colab": {}
      },
      "source": [
        "#for m in range(4):\n",
        "#  files.download('old_hm_{}.png'.format(m))\n",
        "#  files.download('old_MRI_{}.png'.format(m))\n",
        "\n",
        "#for m in range(4):\n",
        "#  files.download('young_hm_{}.png'.format(m))\n",
        "#  files.download('young_MRI_{}.png'.format(m))"
      ],
      "execution_count": 0,
      "outputs": []
    }
  ]
}